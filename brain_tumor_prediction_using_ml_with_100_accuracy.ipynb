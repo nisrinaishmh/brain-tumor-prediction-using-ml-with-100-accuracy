{
  "cells": [
    {
      "cell_type": "markdown",
      "id": "22f0128c",
      "metadata": {
        "execution": {
          "iopub.execute_input": "2022-05-12T12:45:21.652755Z",
          "iopub.status.busy": "2022-05-12T12:45:21.652157Z",
          "iopub.status.idle": "2022-05-12T12:45:21.6879Z",
          "shell.execute_reply": "2022-05-12T12:45:21.68655Z",
          "shell.execute_reply.started": "2022-05-12T12:45:21.652638Z"
        },
        "papermill": {
          "duration": 0.057146,
          "end_time": "2022-05-12T13:03:03.338609",
          "exception": false,
          "start_time": "2022-05-12T13:03:03.281463",
          "status": "completed"
        },
        "tags": [],
        "id": "22f0128c"
      },
      "source": [
        "# What is brain tumor?\n",
        "A brain tumor is a growth of abnormal cells in the brain. The anatomy of the brain is very\n",
        "complex, with different parts responsible for different nervous system. Brain Tumor can\n",
        "develop in any part of the brain or skull, including its protective lining, the underside of the brain(skull base), the brainstem, the sinuses and the nasal cavity, and many other areas.\n",
        "\n",
        "Brain tumors can be cancerous(malignant) or noncancerous(benign).When benign or malignant\n",
        "tumors grow, they can cause the pressure inside skull to increase. This can cause brain damage, and it can be life-threating.\n",
        "\n",
        "However, Early detection and classification of brain tumors is an important research domain in the field of medical imaging and accordingly helps in selecting the most convenient treatment method to save patient life.\n",
        "\n",
        "![800wm.jpg](attachment:3e14e405-9a2e-48f4-94bf-11a876ec8a40.jpg)"
      ]
    },
    {
      "cell_type": "markdown",
      "id": "973c6a64",
      "metadata": {
        "papermill": {
          "duration": 0.056499,
          "end_time": "2022-05-12T13:03:03.449419",
          "exception": false,
          "start_time": "2022-05-12T13:03:03.392920",
          "status": "completed"
        },
        "tags": [],
        "id": "973c6a64"
      },
      "source": [
        "# Import Libraries"
      ]
    },
    {
      "cell_type": "code",
      "execution_count": 1,
      "id": "bb33ada8",
      "metadata": {
        "execution": {
          "iopub.execute_input": "2022-05-12T13:03:03.557880Z",
          "iopub.status.busy": "2022-05-12T13:03:03.557411Z",
          "iopub.status.idle": "2022-05-12T13:03:04.746154Z",
          "shell.execute_reply": "2022-05-12T13:03:04.745339Z"
        },
        "papermill": {
          "duration": 1.245998,
          "end_time": "2022-05-12T13:03:04.748662",
          "exception": false,
          "start_time": "2022-05-12T13:03:03.502664",
          "status": "completed"
        },
        "tags": [],
        "id": "bb33ada8"
      },
      "outputs": [],
      "source": [
        "import pandas as pd\n",
        "import numpy as np\n",
        "import matplotlib.pyplot as plt\n",
        "import seaborn as sns"
      ]
    },
    {
      "cell_type": "markdown",
      "id": "6228b2fe",
      "metadata": {
        "papermill": {
          "duration": 0.052917,
          "end_time": "2022-05-12T13:03:04.855119",
          "exception": false,
          "start_time": "2022-05-12T13:03:04.802202",
          "status": "completed"
        },
        "tags": [],
        "id": "6228b2fe"
      },
      "source": [
        "# Load Dataset"
      ]
    },
    {
      "cell_type": "code",
      "execution_count": null,
      "id": "969208ce",
      "metadata": {
        "execution": {
          "iopub.execute_input": "2022-05-12T13:03:04.964867Z",
          "iopub.status.busy": "2022-05-12T13:03:04.964606Z",
          "iopub.status.idle": "2022-05-12T13:03:05.302874Z",
          "shell.execute_reply": "2022-05-12T13:03:05.301992Z"
        },
        "papermill": {
          "duration": 0.394991,
          "end_time": "2022-05-12T13:03:05.305346",
          "exception": false,
          "start_time": "2022-05-12T13:03:04.910355",
          "status": "completed"
        },
        "tags": [],
        "id": "969208ce"
      },
      "outputs": [],
      "source": [
        "df= pd.read_csv('../kaggle/input1/data.csv')"
      ]
    },
    {
      "cell_type": "code",
      "execution_count": null,
      "id": "093d0ff5",
      "metadata": {
        "execution": {
          "iopub.execute_input": "2022-05-12T13:03:05.413698Z",
          "iopub.status.busy": "2022-05-12T13:03:05.413417Z",
          "iopub.status.idle": "2022-05-12T13:03:05.444076Z",
          "shell.execute_reply": "2022-05-12T13:03:05.443432Z"
        },
        "papermill": {
          "duration": 0.086682,
          "end_time": "2022-05-12T13:03:05.446036",
          "exception": false,
          "start_time": "2022-05-12T13:03:05.359354",
          "status": "completed"
        },
        "tags": [],
        "colab": {
          "base_uri": "https://localhost:8080/",
          "height": 273
        },
        "id": "093d0ff5",
        "outputId": "6c6076d2-df12-4991-bdf5-bb6ce3d1eeed"
      },
      "outputs": [
        {
          "output_type": "execute_result",
          "data": {
            "text/plain": [
              "   Unnamed: 0  X53416  M83670  X90908  M97496  X90908.1  U37019  R48602  \\\n",
              "0           0      70     -81      25      10        22     113      36   \n",
              "1           1     108     -30      -7      60         0      24       8   \n",
              "2           2      75      -1       5      48         6      34      27   \n",
              "3           3     871       4      14      78        -6      85      65   \n",
              "4           4     -92     -34      14      19        11      -6      27   \n",
              "\n",
              "   T96548  X64559  ...  H87456  R64130  H11125.1  U22055  L22524  M13699.1  \\\n",
              "0     163       9  ...      75       5        68     138      53        -4   \n",
              "1     113      -3  ...     186       6        60      93     140        -3   \n",
              "2      35      -1  ...     186     225        94      62      39       -14   \n",
              "3     227      19  ...      77       6        78      30      87        -4   \n",
              "4      -8       9  ...      87     303       204      81     105         9   \n",
              "\n",
              "   X54489  T55008  M10065.2      y  \n",
              "0     123       2        19  tumor  \n",
              "1     271      -1       -51  tumor  \n",
              "2     127       7       192  tumor  \n",
              "3      59       3       367  tumor  \n",
              "4     265      -2       126  tumor  \n",
              "\n",
              "[5 rows x 7466 columns]"
            ],
            "text/html": [
              "\n",
              "  <div id=\"df-68ca34f3-1f26-4c48-ade9-f04b2561c949\" class=\"colab-df-container\">\n",
              "    <div>\n",
              "<style scoped>\n",
              "    .dataframe tbody tr th:only-of-type {\n",
              "        vertical-align: middle;\n",
              "    }\n",
              "\n",
              "    .dataframe tbody tr th {\n",
              "        vertical-align: top;\n",
              "    }\n",
              "\n",
              "    .dataframe thead th {\n",
              "        text-align: right;\n",
              "    }\n",
              "</style>\n",
              "<table border=\"1\" class=\"dataframe\">\n",
              "  <thead>\n",
              "    <tr style=\"text-align: right;\">\n",
              "      <th></th>\n",
              "      <th>Unnamed: 0</th>\n",
              "      <th>X53416</th>\n",
              "      <th>M83670</th>\n",
              "      <th>X90908</th>\n",
              "      <th>M97496</th>\n",
              "      <th>X90908.1</th>\n",
              "      <th>U37019</th>\n",
              "      <th>R48602</th>\n",
              "      <th>T96548</th>\n",
              "      <th>X64559</th>\n",
              "      <th>...</th>\n",
              "      <th>H87456</th>\n",
              "      <th>R64130</th>\n",
              "      <th>H11125.1</th>\n",
              "      <th>U22055</th>\n",
              "      <th>L22524</th>\n",
              "      <th>M13699.1</th>\n",
              "      <th>X54489</th>\n",
              "      <th>T55008</th>\n",
              "      <th>M10065.2</th>\n",
              "      <th>y</th>\n",
              "    </tr>\n",
              "  </thead>\n",
              "  <tbody>\n",
              "    <tr>\n",
              "      <th>0</th>\n",
              "      <td>0</td>\n",
              "      <td>70</td>\n",
              "      <td>-81</td>\n",
              "      <td>25</td>\n",
              "      <td>10</td>\n",
              "      <td>22</td>\n",
              "      <td>113</td>\n",
              "      <td>36</td>\n",
              "      <td>163</td>\n",
              "      <td>9</td>\n",
              "      <td>...</td>\n",
              "      <td>75</td>\n",
              "      <td>5</td>\n",
              "      <td>68</td>\n",
              "      <td>138</td>\n",
              "      <td>53</td>\n",
              "      <td>-4</td>\n",
              "      <td>123</td>\n",
              "      <td>2</td>\n",
              "      <td>19</td>\n",
              "      <td>tumor</td>\n",
              "    </tr>\n",
              "    <tr>\n",
              "      <th>1</th>\n",
              "      <td>1</td>\n",
              "      <td>108</td>\n",
              "      <td>-30</td>\n",
              "      <td>-7</td>\n",
              "      <td>60</td>\n",
              "      <td>0</td>\n",
              "      <td>24</td>\n",
              "      <td>8</td>\n",
              "      <td>113</td>\n",
              "      <td>-3</td>\n",
              "      <td>...</td>\n",
              "      <td>186</td>\n",
              "      <td>6</td>\n",
              "      <td>60</td>\n",
              "      <td>93</td>\n",
              "      <td>140</td>\n",
              "      <td>-3</td>\n",
              "      <td>271</td>\n",
              "      <td>-1</td>\n",
              "      <td>-51</td>\n",
              "      <td>tumor</td>\n",
              "    </tr>\n",
              "    <tr>\n",
              "      <th>2</th>\n",
              "      <td>2</td>\n",
              "      <td>75</td>\n",
              "      <td>-1</td>\n",
              "      <td>5</td>\n",
              "      <td>48</td>\n",
              "      <td>6</td>\n",
              "      <td>34</td>\n",
              "      <td>27</td>\n",
              "      <td>35</td>\n",
              "      <td>-1</td>\n",
              "      <td>...</td>\n",
              "      <td>186</td>\n",
              "      <td>225</td>\n",
              "      <td>94</td>\n",
              "      <td>62</td>\n",
              "      <td>39</td>\n",
              "      <td>-14</td>\n",
              "      <td>127</td>\n",
              "      <td>7</td>\n",
              "      <td>192</td>\n",
              "      <td>tumor</td>\n",
              "    </tr>\n",
              "    <tr>\n",
              "      <th>3</th>\n",
              "      <td>3</td>\n",
              "      <td>871</td>\n",
              "      <td>4</td>\n",
              "      <td>14</td>\n",
              "      <td>78</td>\n",
              "      <td>-6</td>\n",
              "      <td>85</td>\n",
              "      <td>65</td>\n",
              "      <td>227</td>\n",
              "      <td>19</td>\n",
              "      <td>...</td>\n",
              "      <td>77</td>\n",
              "      <td>6</td>\n",
              "      <td>78</td>\n",
              "      <td>30</td>\n",
              "      <td>87</td>\n",
              "      <td>-4</td>\n",
              "      <td>59</td>\n",
              "      <td>3</td>\n",
              "      <td>367</td>\n",
              "      <td>tumor</td>\n",
              "    </tr>\n",
              "    <tr>\n",
              "      <th>4</th>\n",
              "      <td>4</td>\n",
              "      <td>-92</td>\n",
              "      <td>-34</td>\n",
              "      <td>14</td>\n",
              "      <td>19</td>\n",
              "      <td>11</td>\n",
              "      <td>-6</td>\n",
              "      <td>27</td>\n",
              "      <td>-8</td>\n",
              "      <td>9</td>\n",
              "      <td>...</td>\n",
              "      <td>87</td>\n",
              "      <td>303</td>\n",
              "      <td>204</td>\n",
              "      <td>81</td>\n",
              "      <td>105</td>\n",
              "      <td>9</td>\n",
              "      <td>265</td>\n",
              "      <td>-2</td>\n",
              "      <td>126</td>\n",
              "      <td>tumor</td>\n",
              "    </tr>\n",
              "  </tbody>\n",
              "</table>\n",
              "<p>5 rows × 7466 columns</p>\n",
              "</div>\n",
              "    <div class=\"colab-df-buttons\">\n",
              "\n",
              "  <div class=\"colab-df-container\">\n",
              "    <button class=\"colab-df-convert\" onclick=\"convertToInteractive('df-68ca34f3-1f26-4c48-ade9-f04b2561c949')\"\n",
              "            title=\"Convert this dataframe to an interactive table.\"\n",
              "            style=\"display:none;\">\n",
              "\n",
              "  <svg xmlns=\"http://www.w3.org/2000/svg\" height=\"24px\" viewBox=\"0 -960 960 960\">\n",
              "    <path d=\"M120-120v-720h720v720H120Zm60-500h600v-160H180v160Zm220 220h160v-160H400v160Zm0 220h160v-160H400v160ZM180-400h160v-160H180v160Zm440 0h160v-160H620v160ZM180-180h160v-160H180v160Zm440 0h160v-160H620v160Z\"/>\n",
              "  </svg>\n",
              "    </button>\n",
              "\n",
              "  <style>\n",
              "    .colab-df-container {\n",
              "      display:flex;\n",
              "      gap: 12px;\n",
              "    }\n",
              "\n",
              "    .colab-df-convert {\n",
              "      background-color: #E8F0FE;\n",
              "      border: none;\n",
              "      border-radius: 50%;\n",
              "      cursor: pointer;\n",
              "      display: none;\n",
              "      fill: #1967D2;\n",
              "      height: 32px;\n",
              "      padding: 0 0 0 0;\n",
              "      width: 32px;\n",
              "    }\n",
              "\n",
              "    .colab-df-convert:hover {\n",
              "      background-color: #E2EBFA;\n",
              "      box-shadow: 0px 1px 2px rgba(60, 64, 67, 0.3), 0px 1px 3px 1px rgba(60, 64, 67, 0.15);\n",
              "      fill: #174EA6;\n",
              "    }\n",
              "\n",
              "    .colab-df-buttons div {\n",
              "      margin-bottom: 4px;\n",
              "    }\n",
              "\n",
              "    [theme=dark] .colab-df-convert {\n",
              "      background-color: #3B4455;\n",
              "      fill: #D2E3FC;\n",
              "    }\n",
              "\n",
              "    [theme=dark] .colab-df-convert:hover {\n",
              "      background-color: #434B5C;\n",
              "      box-shadow: 0px 1px 3px 1px rgba(0, 0, 0, 0.15);\n",
              "      filter: drop-shadow(0px 1px 2px rgba(0, 0, 0, 0.3));\n",
              "      fill: #FFFFFF;\n",
              "    }\n",
              "  </style>\n",
              "\n",
              "    <script>\n",
              "      const buttonEl =\n",
              "        document.querySelector('#df-68ca34f3-1f26-4c48-ade9-f04b2561c949 button.colab-df-convert');\n",
              "      buttonEl.style.display =\n",
              "        google.colab.kernel.accessAllowed ? 'block' : 'none';\n",
              "\n",
              "      async function convertToInteractive(key) {\n",
              "        const element = document.querySelector('#df-68ca34f3-1f26-4c48-ade9-f04b2561c949');\n",
              "        const dataTable =\n",
              "          await google.colab.kernel.invokeFunction('convertToInteractive',\n",
              "                                                    [key], {});\n",
              "        if (!dataTable) return;\n",
              "\n",
              "        const docLinkHtml = 'Like what you see? Visit the ' +\n",
              "          '<a target=\"_blank\" href=https://colab.research.google.com/notebooks/data_table.ipynb>data table notebook</a>'\n",
              "          + ' to learn more about interactive tables.';\n",
              "        element.innerHTML = '';\n",
              "        dataTable['output_type'] = 'display_data';\n",
              "        await google.colab.output.renderOutput(dataTable, element);\n",
              "        const docLink = document.createElement('div');\n",
              "        docLink.innerHTML = docLinkHtml;\n",
              "        element.appendChild(docLink);\n",
              "      }\n",
              "    </script>\n",
              "  </div>\n",
              "\n",
              "\n",
              "<div id=\"df-6df65b3c-94c2-4f6d-bd11-e9dd322fe6f5\">\n",
              "  <button class=\"colab-df-quickchart\" onclick=\"quickchart('df-6df65b3c-94c2-4f6d-bd11-e9dd322fe6f5')\"\n",
              "            title=\"Suggest charts\"\n",
              "            style=\"display:none;\">\n",
              "\n",
              "<svg xmlns=\"http://www.w3.org/2000/svg\" height=\"24px\"viewBox=\"0 0 24 24\"\n",
              "     width=\"24px\">\n",
              "    <g>\n",
              "        <path d=\"M19 3H5c-1.1 0-2 .9-2 2v14c0 1.1.9 2 2 2h14c1.1 0 2-.9 2-2V5c0-1.1-.9-2-2-2zM9 17H7v-7h2v7zm4 0h-2V7h2v10zm4 0h-2v-4h2v4z\"/>\n",
              "    </g>\n",
              "</svg>\n",
              "  </button>\n",
              "\n",
              "<style>\n",
              "  .colab-df-quickchart {\n",
              "      --bg-color: #E8F0FE;\n",
              "      --fill-color: #1967D2;\n",
              "      --hover-bg-color: #E2EBFA;\n",
              "      --hover-fill-color: #174EA6;\n",
              "      --disabled-fill-color: #AAA;\n",
              "      --disabled-bg-color: #DDD;\n",
              "  }\n",
              "\n",
              "  [theme=dark] .colab-df-quickchart {\n",
              "      --bg-color: #3B4455;\n",
              "      --fill-color: #D2E3FC;\n",
              "      --hover-bg-color: #434B5C;\n",
              "      --hover-fill-color: #FFFFFF;\n",
              "      --disabled-bg-color: #3B4455;\n",
              "      --disabled-fill-color: #666;\n",
              "  }\n",
              "\n",
              "  .colab-df-quickchart {\n",
              "    background-color: var(--bg-color);\n",
              "    border: none;\n",
              "    border-radius: 50%;\n",
              "    cursor: pointer;\n",
              "    display: none;\n",
              "    fill: var(--fill-color);\n",
              "    height: 32px;\n",
              "    padding: 0;\n",
              "    width: 32px;\n",
              "  }\n",
              "\n",
              "  .colab-df-quickchart:hover {\n",
              "    background-color: var(--hover-bg-color);\n",
              "    box-shadow: 0 1px 2px rgba(60, 64, 67, 0.3), 0 1px 3px 1px rgba(60, 64, 67, 0.15);\n",
              "    fill: var(--button-hover-fill-color);\n",
              "  }\n",
              "\n",
              "  .colab-df-quickchart-complete:disabled,\n",
              "  .colab-df-quickchart-complete:disabled:hover {\n",
              "    background-color: var(--disabled-bg-color);\n",
              "    fill: var(--disabled-fill-color);\n",
              "    box-shadow: none;\n",
              "  }\n",
              "\n",
              "  .colab-df-spinner {\n",
              "    border: 2px solid var(--fill-color);\n",
              "    border-color: transparent;\n",
              "    border-bottom-color: var(--fill-color);\n",
              "    animation:\n",
              "      spin 1s steps(1) infinite;\n",
              "  }\n",
              "\n",
              "  @keyframes spin {\n",
              "    0% {\n",
              "      border-color: transparent;\n",
              "      border-bottom-color: var(--fill-color);\n",
              "      border-left-color: var(--fill-color);\n",
              "    }\n",
              "    20% {\n",
              "      border-color: transparent;\n",
              "      border-left-color: var(--fill-color);\n",
              "      border-top-color: var(--fill-color);\n",
              "    }\n",
              "    30% {\n",
              "      border-color: transparent;\n",
              "      border-left-color: var(--fill-color);\n",
              "      border-top-color: var(--fill-color);\n",
              "      border-right-color: var(--fill-color);\n",
              "    }\n",
              "    40% {\n",
              "      border-color: transparent;\n",
              "      border-right-color: var(--fill-color);\n",
              "      border-top-color: var(--fill-color);\n",
              "    }\n",
              "    60% {\n",
              "      border-color: transparent;\n",
              "      border-right-color: var(--fill-color);\n",
              "    }\n",
              "    80% {\n",
              "      border-color: transparent;\n",
              "      border-right-color: var(--fill-color);\n",
              "      border-bottom-color: var(--fill-color);\n",
              "    }\n",
              "    90% {\n",
              "      border-color: transparent;\n",
              "      border-bottom-color: var(--fill-color);\n",
              "    }\n",
              "  }\n",
              "</style>\n",
              "\n",
              "  <script>\n",
              "    async function quickchart(key) {\n",
              "      const quickchartButtonEl =\n",
              "        document.querySelector('#' + key + ' button');\n",
              "      quickchartButtonEl.disabled = true;  // To prevent multiple clicks.\n",
              "      quickchartButtonEl.classList.add('colab-df-spinner');\n",
              "      try {\n",
              "        const charts = await google.colab.kernel.invokeFunction(\n",
              "            'suggestCharts', [key], {});\n",
              "      } catch (error) {\n",
              "        console.error('Error during call to suggestCharts:', error);\n",
              "      }\n",
              "      quickchartButtonEl.classList.remove('colab-df-spinner');\n",
              "      quickchartButtonEl.classList.add('colab-df-quickchart-complete');\n",
              "    }\n",
              "    (() => {\n",
              "      let quickchartButtonEl =\n",
              "        document.querySelector('#df-6df65b3c-94c2-4f6d-bd11-e9dd322fe6f5 button');\n",
              "      quickchartButtonEl.style.display =\n",
              "        google.colab.kernel.accessAllowed ? 'block' : 'none';\n",
              "    })();\n",
              "  </script>\n",
              "</div>\n",
              "    </div>\n",
              "  </div>\n"
            ],
            "application/vnd.google.colaboratory.intrinsic+json": {
              "type": "dataframe",
              "variable_name": "df"
            }
          },
          "metadata": {},
          "execution_count": 3
        }
      ],
      "source": [
        "df.head()"
      ]
    },
    {
      "cell_type": "code",
      "execution_count": null,
      "id": "298f3a9e",
      "metadata": {
        "execution": {
          "iopub.execute_input": "2022-05-12T13:03:05.557429Z",
          "iopub.status.busy": "2022-05-12T13:03:05.556841Z",
          "iopub.status.idle": "2022-05-12T13:03:05.574602Z",
          "shell.execute_reply": "2022-05-12T13:03:05.573705Z"
        },
        "papermill": {
          "duration": 0.075989,
          "end_time": "2022-05-12T13:03:05.576709",
          "exception": false,
          "start_time": "2022-05-12T13:03:05.500720",
          "status": "completed"
        },
        "tags": [],
        "colab": {
          "base_uri": "https://localhost:8080/",
          "height": 273
        },
        "id": "298f3a9e",
        "outputId": "8e5c6677-f322-4219-bf15-4af587bf6ba5"
      },
      "outputs": [
        {
          "output_type": "execute_result",
          "data": {
            "text/plain": [
              "    Unnamed: 0  X53416  M83670  X90908  M97496  X90908.1  U37019  R48602  \\\n",
              "31          31     488     564     -29    1303        -9    1236     265   \n",
              "32          32     164     330     -13     721        12     504     154   \n",
              "33          33    1282     116      -4     542         0    1070     344   \n",
              "34          34      68     718     -50    1816       -28     251      38   \n",
              "35          35     928     332       4     412         0     681     267   \n",
              "\n",
              "    T96548  X64559  ...  H87456  R64130  H11125.1  U22055  L22524  M13699.1  \\\n",
              "31    2203      41  ...      16       0       109      21       6       -15   \n",
              "32    1381      78  ...     -18       1     -1484      -4      -1        -1   \n",
              "33    1903      42  ...       5       3       128      25       2         0   \n",
              "34     598      73  ...      47      -2       190       3       0         8   \n",
              "35    1132     357  ...       9       1        67      19      10         1   \n",
              "\n",
              "    X54489  T55008  M10065.2       y  \n",
              "31      11       7      -145  Normal  \n",
              "32       3      -5       -63  Normal  \n",
              "33       7       3       -69  Normal  \n",
              "34      21      22      -214  Normal  \n",
              "35      32      -5        72  Normal  \n",
              "\n",
              "[5 rows x 7466 columns]"
            ],
            "text/html": [
              "\n",
              "  <div id=\"df-62591dc1-8e48-44de-a1b8-c6d44284d6eb\" class=\"colab-df-container\">\n",
              "    <div>\n",
              "<style scoped>\n",
              "    .dataframe tbody tr th:only-of-type {\n",
              "        vertical-align: middle;\n",
              "    }\n",
              "\n",
              "    .dataframe tbody tr th {\n",
              "        vertical-align: top;\n",
              "    }\n",
              "\n",
              "    .dataframe thead th {\n",
              "        text-align: right;\n",
              "    }\n",
              "</style>\n",
              "<table border=\"1\" class=\"dataframe\">\n",
              "  <thead>\n",
              "    <tr style=\"text-align: right;\">\n",
              "      <th></th>\n",
              "      <th>Unnamed: 0</th>\n",
              "      <th>X53416</th>\n",
              "      <th>M83670</th>\n",
              "      <th>X90908</th>\n",
              "      <th>M97496</th>\n",
              "      <th>X90908.1</th>\n",
              "      <th>U37019</th>\n",
              "      <th>R48602</th>\n",
              "      <th>T96548</th>\n",
              "      <th>X64559</th>\n",
              "      <th>...</th>\n",
              "      <th>H87456</th>\n",
              "      <th>R64130</th>\n",
              "      <th>H11125.1</th>\n",
              "      <th>U22055</th>\n",
              "      <th>L22524</th>\n",
              "      <th>M13699.1</th>\n",
              "      <th>X54489</th>\n",
              "      <th>T55008</th>\n",
              "      <th>M10065.2</th>\n",
              "      <th>y</th>\n",
              "    </tr>\n",
              "  </thead>\n",
              "  <tbody>\n",
              "    <tr>\n",
              "      <th>31</th>\n",
              "      <td>31</td>\n",
              "      <td>488</td>\n",
              "      <td>564</td>\n",
              "      <td>-29</td>\n",
              "      <td>1303</td>\n",
              "      <td>-9</td>\n",
              "      <td>1236</td>\n",
              "      <td>265</td>\n",
              "      <td>2203</td>\n",
              "      <td>41</td>\n",
              "      <td>...</td>\n",
              "      <td>16</td>\n",
              "      <td>0</td>\n",
              "      <td>109</td>\n",
              "      <td>21</td>\n",
              "      <td>6</td>\n",
              "      <td>-15</td>\n",
              "      <td>11</td>\n",
              "      <td>7</td>\n",
              "      <td>-145</td>\n",
              "      <td>Normal</td>\n",
              "    </tr>\n",
              "    <tr>\n",
              "      <th>32</th>\n",
              "      <td>32</td>\n",
              "      <td>164</td>\n",
              "      <td>330</td>\n",
              "      <td>-13</td>\n",
              "      <td>721</td>\n",
              "      <td>12</td>\n",
              "      <td>504</td>\n",
              "      <td>154</td>\n",
              "      <td>1381</td>\n",
              "      <td>78</td>\n",
              "      <td>...</td>\n",
              "      <td>-18</td>\n",
              "      <td>1</td>\n",
              "      <td>-1484</td>\n",
              "      <td>-4</td>\n",
              "      <td>-1</td>\n",
              "      <td>-1</td>\n",
              "      <td>3</td>\n",
              "      <td>-5</td>\n",
              "      <td>-63</td>\n",
              "      <td>Normal</td>\n",
              "    </tr>\n",
              "    <tr>\n",
              "      <th>33</th>\n",
              "      <td>33</td>\n",
              "      <td>1282</td>\n",
              "      <td>116</td>\n",
              "      <td>-4</td>\n",
              "      <td>542</td>\n",
              "      <td>0</td>\n",
              "      <td>1070</td>\n",
              "      <td>344</td>\n",
              "      <td>1903</td>\n",
              "      <td>42</td>\n",
              "      <td>...</td>\n",
              "      <td>5</td>\n",
              "      <td>3</td>\n",
              "      <td>128</td>\n",
              "      <td>25</td>\n",
              "      <td>2</td>\n",
              "      <td>0</td>\n",
              "      <td>7</td>\n",
              "      <td>3</td>\n",
              "      <td>-69</td>\n",
              "      <td>Normal</td>\n",
              "    </tr>\n",
              "    <tr>\n",
              "      <th>34</th>\n",
              "      <td>34</td>\n",
              "      <td>68</td>\n",
              "      <td>718</td>\n",
              "      <td>-50</td>\n",
              "      <td>1816</td>\n",
              "      <td>-28</td>\n",
              "      <td>251</td>\n",
              "      <td>38</td>\n",
              "      <td>598</td>\n",
              "      <td>73</td>\n",
              "      <td>...</td>\n",
              "      <td>47</td>\n",
              "      <td>-2</td>\n",
              "      <td>190</td>\n",
              "      <td>3</td>\n",
              "      <td>0</td>\n",
              "      <td>8</td>\n",
              "      <td>21</td>\n",
              "      <td>22</td>\n",
              "      <td>-214</td>\n",
              "      <td>Normal</td>\n",
              "    </tr>\n",
              "    <tr>\n",
              "      <th>35</th>\n",
              "      <td>35</td>\n",
              "      <td>928</td>\n",
              "      <td>332</td>\n",
              "      <td>4</td>\n",
              "      <td>412</td>\n",
              "      <td>0</td>\n",
              "      <td>681</td>\n",
              "      <td>267</td>\n",
              "      <td>1132</td>\n",
              "      <td>357</td>\n",
              "      <td>...</td>\n",
              "      <td>9</td>\n",
              "      <td>1</td>\n",
              "      <td>67</td>\n",
              "      <td>19</td>\n",
              "      <td>10</td>\n",
              "      <td>1</td>\n",
              "      <td>32</td>\n",
              "      <td>-5</td>\n",
              "      <td>72</td>\n",
              "      <td>Normal</td>\n",
              "    </tr>\n",
              "  </tbody>\n",
              "</table>\n",
              "<p>5 rows × 7466 columns</p>\n",
              "</div>\n",
              "    <div class=\"colab-df-buttons\">\n",
              "\n",
              "  <div class=\"colab-df-container\">\n",
              "    <button class=\"colab-df-convert\" onclick=\"convertToInteractive('df-62591dc1-8e48-44de-a1b8-c6d44284d6eb')\"\n",
              "            title=\"Convert this dataframe to an interactive table.\"\n",
              "            style=\"display:none;\">\n",
              "\n",
              "  <svg xmlns=\"http://www.w3.org/2000/svg\" height=\"24px\" viewBox=\"0 -960 960 960\">\n",
              "    <path d=\"M120-120v-720h720v720H120Zm60-500h600v-160H180v160Zm220 220h160v-160H400v160Zm0 220h160v-160H400v160ZM180-400h160v-160H180v160Zm440 0h160v-160H620v160ZM180-180h160v-160H180v160Zm440 0h160v-160H620v160Z\"/>\n",
              "  </svg>\n",
              "    </button>\n",
              "\n",
              "  <style>\n",
              "    .colab-df-container {\n",
              "      display:flex;\n",
              "      gap: 12px;\n",
              "    }\n",
              "\n",
              "    .colab-df-convert {\n",
              "      background-color: #E8F0FE;\n",
              "      border: none;\n",
              "      border-radius: 50%;\n",
              "      cursor: pointer;\n",
              "      display: none;\n",
              "      fill: #1967D2;\n",
              "      height: 32px;\n",
              "      padding: 0 0 0 0;\n",
              "      width: 32px;\n",
              "    }\n",
              "\n",
              "    .colab-df-convert:hover {\n",
              "      background-color: #E2EBFA;\n",
              "      box-shadow: 0px 1px 2px rgba(60, 64, 67, 0.3), 0px 1px 3px 1px rgba(60, 64, 67, 0.15);\n",
              "      fill: #174EA6;\n",
              "    }\n",
              "\n",
              "    .colab-df-buttons div {\n",
              "      margin-bottom: 4px;\n",
              "    }\n",
              "\n",
              "    [theme=dark] .colab-df-convert {\n",
              "      background-color: #3B4455;\n",
              "      fill: #D2E3FC;\n",
              "    }\n",
              "\n",
              "    [theme=dark] .colab-df-convert:hover {\n",
              "      background-color: #434B5C;\n",
              "      box-shadow: 0px 1px 3px 1px rgba(0, 0, 0, 0.15);\n",
              "      filter: drop-shadow(0px 1px 2px rgba(0, 0, 0, 0.3));\n",
              "      fill: #FFFFFF;\n",
              "    }\n",
              "  </style>\n",
              "\n",
              "    <script>\n",
              "      const buttonEl =\n",
              "        document.querySelector('#df-62591dc1-8e48-44de-a1b8-c6d44284d6eb button.colab-df-convert');\n",
              "      buttonEl.style.display =\n",
              "        google.colab.kernel.accessAllowed ? 'block' : 'none';\n",
              "\n",
              "      async function convertToInteractive(key) {\n",
              "        const element = document.querySelector('#df-62591dc1-8e48-44de-a1b8-c6d44284d6eb');\n",
              "        const dataTable =\n",
              "          await google.colab.kernel.invokeFunction('convertToInteractive',\n",
              "                                                    [key], {});\n",
              "        if (!dataTable) return;\n",
              "\n",
              "        const docLinkHtml = 'Like what you see? Visit the ' +\n",
              "          '<a target=\"_blank\" href=https://colab.research.google.com/notebooks/data_table.ipynb>data table notebook</a>'\n",
              "          + ' to learn more about interactive tables.';\n",
              "        element.innerHTML = '';\n",
              "        dataTable['output_type'] = 'display_data';\n",
              "        await google.colab.output.renderOutput(dataTable, element);\n",
              "        const docLink = document.createElement('div');\n",
              "        docLink.innerHTML = docLinkHtml;\n",
              "        element.appendChild(docLink);\n",
              "      }\n",
              "    </script>\n",
              "  </div>\n",
              "\n",
              "\n",
              "<div id=\"df-9d417930-bc41-44fd-ac18-da357909077d\">\n",
              "  <button class=\"colab-df-quickchart\" onclick=\"quickchart('df-9d417930-bc41-44fd-ac18-da357909077d')\"\n",
              "            title=\"Suggest charts\"\n",
              "            style=\"display:none;\">\n",
              "\n",
              "<svg xmlns=\"http://www.w3.org/2000/svg\" height=\"24px\"viewBox=\"0 0 24 24\"\n",
              "     width=\"24px\">\n",
              "    <g>\n",
              "        <path d=\"M19 3H5c-1.1 0-2 .9-2 2v14c0 1.1.9 2 2 2h14c1.1 0 2-.9 2-2V5c0-1.1-.9-2-2-2zM9 17H7v-7h2v7zm4 0h-2V7h2v10zm4 0h-2v-4h2v4z\"/>\n",
              "    </g>\n",
              "</svg>\n",
              "  </button>\n",
              "\n",
              "<style>\n",
              "  .colab-df-quickchart {\n",
              "      --bg-color: #E8F0FE;\n",
              "      --fill-color: #1967D2;\n",
              "      --hover-bg-color: #E2EBFA;\n",
              "      --hover-fill-color: #174EA6;\n",
              "      --disabled-fill-color: #AAA;\n",
              "      --disabled-bg-color: #DDD;\n",
              "  }\n",
              "\n",
              "  [theme=dark] .colab-df-quickchart {\n",
              "      --bg-color: #3B4455;\n",
              "      --fill-color: #D2E3FC;\n",
              "      --hover-bg-color: #434B5C;\n",
              "      --hover-fill-color: #FFFFFF;\n",
              "      --disabled-bg-color: #3B4455;\n",
              "      --disabled-fill-color: #666;\n",
              "  }\n",
              "\n",
              "  .colab-df-quickchart {\n",
              "    background-color: var(--bg-color);\n",
              "    border: none;\n",
              "    border-radius: 50%;\n",
              "    cursor: pointer;\n",
              "    display: none;\n",
              "    fill: var(--fill-color);\n",
              "    height: 32px;\n",
              "    padding: 0;\n",
              "    width: 32px;\n",
              "  }\n",
              "\n",
              "  .colab-df-quickchart:hover {\n",
              "    background-color: var(--hover-bg-color);\n",
              "    box-shadow: 0 1px 2px rgba(60, 64, 67, 0.3), 0 1px 3px 1px rgba(60, 64, 67, 0.15);\n",
              "    fill: var(--button-hover-fill-color);\n",
              "  }\n",
              "\n",
              "  .colab-df-quickchart-complete:disabled,\n",
              "  .colab-df-quickchart-complete:disabled:hover {\n",
              "    background-color: var(--disabled-bg-color);\n",
              "    fill: var(--disabled-fill-color);\n",
              "    box-shadow: none;\n",
              "  }\n",
              "\n",
              "  .colab-df-spinner {\n",
              "    border: 2px solid var(--fill-color);\n",
              "    border-color: transparent;\n",
              "    border-bottom-color: var(--fill-color);\n",
              "    animation:\n",
              "      spin 1s steps(1) infinite;\n",
              "  }\n",
              "\n",
              "  @keyframes spin {\n",
              "    0% {\n",
              "      border-color: transparent;\n",
              "      border-bottom-color: var(--fill-color);\n",
              "      border-left-color: var(--fill-color);\n",
              "    }\n",
              "    20% {\n",
              "      border-color: transparent;\n",
              "      border-left-color: var(--fill-color);\n",
              "      border-top-color: var(--fill-color);\n",
              "    }\n",
              "    30% {\n",
              "      border-color: transparent;\n",
              "      border-left-color: var(--fill-color);\n",
              "      border-top-color: var(--fill-color);\n",
              "      border-right-color: var(--fill-color);\n",
              "    }\n",
              "    40% {\n",
              "      border-color: transparent;\n",
              "      border-right-color: var(--fill-color);\n",
              "      border-top-color: var(--fill-color);\n",
              "    }\n",
              "    60% {\n",
              "      border-color: transparent;\n",
              "      border-right-color: var(--fill-color);\n",
              "    }\n",
              "    80% {\n",
              "      border-color: transparent;\n",
              "      border-right-color: var(--fill-color);\n",
              "      border-bottom-color: var(--fill-color);\n",
              "    }\n",
              "    90% {\n",
              "      border-color: transparent;\n",
              "      border-bottom-color: var(--fill-color);\n",
              "    }\n",
              "  }\n",
              "</style>\n",
              "\n",
              "  <script>\n",
              "    async function quickchart(key) {\n",
              "      const quickchartButtonEl =\n",
              "        document.querySelector('#' + key + ' button');\n",
              "      quickchartButtonEl.disabled = true;  // To prevent multiple clicks.\n",
              "      quickchartButtonEl.classList.add('colab-df-spinner');\n",
              "      try {\n",
              "        const charts = await google.colab.kernel.invokeFunction(\n",
              "            'suggestCharts', [key], {});\n",
              "      } catch (error) {\n",
              "        console.error('Error during call to suggestCharts:', error);\n",
              "      }\n",
              "      quickchartButtonEl.classList.remove('colab-df-spinner');\n",
              "      quickchartButtonEl.classList.add('colab-df-quickchart-complete');\n",
              "    }\n",
              "    (() => {\n",
              "      let quickchartButtonEl =\n",
              "        document.querySelector('#df-9d417930-bc41-44fd-ac18-da357909077d button');\n",
              "      quickchartButtonEl.style.display =\n",
              "        google.colab.kernel.accessAllowed ? 'block' : 'none';\n",
              "    })();\n",
              "  </script>\n",
              "</div>\n",
              "    </div>\n",
              "  </div>\n"
            ],
            "application/vnd.google.colaboratory.intrinsic+json": {
              "type": "dataframe"
            }
          },
          "metadata": {},
          "execution_count": 4
        }
      ],
      "source": [
        "df.tail()"
      ]
    },
    {
      "cell_type": "code",
      "execution_count": null,
      "id": "b78928c0",
      "metadata": {
        "execution": {
          "iopub.execute_input": "2022-05-12T13:03:05.688692Z",
          "iopub.status.busy": "2022-05-12T13:03:05.688374Z",
          "iopub.status.idle": "2022-05-12T13:03:06.170572Z",
          "shell.execute_reply": "2022-05-12T13:03:06.169890Z"
        },
        "papermill": {
          "duration": 0.540326,
          "end_time": "2022-05-12T13:03:06.172583",
          "exception": false,
          "start_time": "2022-05-12T13:03:05.632257",
          "status": "completed"
        },
        "tags": [],
        "colab": {
          "base_uri": "https://localhost:8080/"
        },
        "id": "b78928c0",
        "outputId": "7a2f674d-7b5f-489f-c271-580fdd0981e7"
      },
      "outputs": [
        {
          "output_type": "stream",
          "name": "stdout",
          "text": [
            "<class 'pandas.core.frame.DataFrame'>\n",
            "RangeIndex: 36 entries, 0 to 35\n",
            "Columns: 7466 entries, Unnamed: 0 to y\n",
            "dtypes: int64(7465), object(1)\n",
            "memory usage: 2.1+ MB\n"
          ]
        }
      ],
      "source": [
        "df.info()"
      ]
    },
    {
      "cell_type": "code",
      "execution_count": null,
      "id": "b9822b19",
      "metadata": {
        "execution": {
          "iopub.execute_input": "2022-05-12T13:03:06.285497Z",
          "iopub.status.busy": "2022-05-12T13:03:06.284912Z",
          "iopub.status.idle": "2022-05-12T13:03:06.323097Z",
          "shell.execute_reply": "2022-05-12T13:03:06.322139Z"
        },
        "papermill": {
          "duration": 0.096805,
          "end_time": "2022-05-12T13:03:06.325372",
          "exception": false,
          "start_time": "2022-05-12T13:03:06.228567",
          "status": "completed"
        },
        "tags": [],
        "colab": {
          "base_uri": "https://localhost:8080/"
        },
        "id": "b9822b19",
        "outputId": "477c375b-33a0-4e40-b45b-75b6f9c4b5eb"
      },
      "outputs": [
        {
          "output_type": "execute_result",
          "data": {
            "text/plain": [
              "Unnamed: 0    0\n",
              "X53416        0\n",
              "M83670        0\n",
              "X90908        0\n",
              "M97496        0\n",
              "             ..\n",
              "M13699.1      0\n",
              "X54489        0\n",
              "T55008        0\n",
              "M10065.2      0\n",
              "y             0\n",
              "Length: 7466, dtype: int64"
            ]
          },
          "metadata": {},
          "execution_count": 6
        }
      ],
      "source": [
        "df.isnull().sum()"
      ]
    },
    {
      "cell_type": "markdown",
      "id": "5cef2bb2",
      "metadata": {
        "papermill": {
          "duration": 0.055813,
          "end_time": "2022-05-12T13:03:06.436824",
          "exception": false,
          "start_time": "2022-05-12T13:03:06.381011",
          "status": "completed"
        },
        "tags": [],
        "id": "5cef2bb2"
      },
      "source": [
        "# Drop Unnamed Column"
      ]
    },
    {
      "cell_type": "code",
      "execution_count": null,
      "id": "3cc3844c",
      "metadata": {
        "execution": {
          "iopub.execute_input": "2022-05-12T13:03:06.549548Z",
          "iopub.status.busy": "2022-05-12T13:03:06.548755Z",
          "iopub.status.idle": "2022-05-12T13:03:06.562894Z",
          "shell.execute_reply": "2022-05-12T13:03:06.562099Z"
        },
        "papermill": {
          "duration": 0.072779,
          "end_time": "2022-05-12T13:03:06.565173",
          "exception": false,
          "start_time": "2022-05-12T13:03:06.492394",
          "status": "completed"
        },
        "tags": [],
        "id": "3cc3844c"
      },
      "outputs": [],
      "source": [
        "df.drop(columns=['Unnamed: 0'],axis=1,inplace=True)"
      ]
    },
    {
      "cell_type": "code",
      "execution_count": null,
      "id": "7b0e49a8",
      "metadata": {
        "execution": {
          "iopub.execute_input": "2022-05-12T13:03:06.678034Z",
          "iopub.status.busy": "2022-05-12T13:03:06.677361Z",
          "iopub.status.idle": "2022-05-12T13:03:06.684191Z",
          "shell.execute_reply": "2022-05-12T13:03:06.683441Z"
        },
        "papermill": {
          "duration": 0.065517,
          "end_time": "2022-05-12T13:03:06.686335",
          "exception": false,
          "start_time": "2022-05-12T13:03:06.620818",
          "status": "completed"
        },
        "tags": [],
        "colab": {
          "base_uri": "https://localhost:8080/"
        },
        "id": "7b0e49a8",
        "outputId": "4228f0fd-5145-4f14-91b3-e2a176a78b63"
      },
      "outputs": [
        {
          "output_type": "execute_result",
          "data": {
            "text/plain": [
              "Index(['X53416', 'M83670', 'X90908', 'M97496', 'X90908.1', 'U37019', 'R48602',\n",
              "       'T96548', 'X64559', 'T55741',\n",
              "       ...\n",
              "       'H87456', 'R64130', 'H11125.1', 'U22055', 'L22524', 'M13699.1',\n",
              "       'X54489', 'T55008', 'M10065.2', 'y'],\n",
              "      dtype='object', length=7465)"
            ]
          },
          "metadata": {},
          "execution_count": 8
        }
      ],
      "source": [
        "df.columns"
      ]
    },
    {
      "cell_type": "markdown",
      "id": "4849e39b",
      "metadata": {
        "papermill": {
          "duration": 0.056726,
          "end_time": "2022-05-12T13:03:06.801146",
          "exception": false,
          "start_time": "2022-05-12T13:03:06.744420",
          "status": "completed"
        },
        "tags": [],
        "id": "4849e39b"
      },
      "source": [
        "# Check Unique Values in data"
      ]
    },
    {
      "cell_type": "code",
      "execution_count": null,
      "id": "23269c44",
      "metadata": {
        "execution": {
          "iopub.execute_input": "2022-05-12T13:03:06.914670Z",
          "iopub.status.busy": "2022-05-12T13:03:06.914405Z",
          "iopub.status.idle": "2022-05-12T13:03:06.921657Z",
          "shell.execute_reply": "2022-05-12T13:03:06.920999Z"
        },
        "papermill": {
          "duration": 0.066916,
          "end_time": "2022-05-12T13:03:06.923597",
          "exception": false,
          "start_time": "2022-05-12T13:03:06.856681",
          "status": "completed"
        },
        "tags": [],
        "colab": {
          "base_uri": "https://localhost:8080/"
        },
        "id": "23269c44",
        "outputId": "79163c6e-c98a-4c36-b3c2-be587de1b873"
      },
      "outputs": [
        {
          "output_type": "execute_result",
          "data": {
            "text/plain": [
              "array(['tumor', 'Normal'], dtype=object)"
            ]
          },
          "metadata": {},
          "execution_count": 9
        }
      ],
      "source": [
        "df['y'].unique()"
      ]
    },
    {
      "cell_type": "markdown",
      "id": "2be9677e",
      "metadata": {
        "papermill": {
          "duration": 0.056291,
          "end_time": "2022-05-12T13:03:07.038754",
          "exception": false,
          "start_time": "2022-05-12T13:03:06.982463",
          "status": "completed"
        },
        "tags": [],
        "id": "2be9677e"
      },
      "source": [
        "# Statistical Information of data"
      ]
    },
    {
      "cell_type": "code",
      "execution_count": null,
      "id": "2c5246ff",
      "metadata": {
        "execution": {
          "iopub.execute_input": "2022-05-12T13:03:07.152915Z",
          "iopub.status.busy": "2022-05-12T13:03:07.152095Z",
          "iopub.status.idle": "2022-05-12T13:03:21.091867Z",
          "shell.execute_reply": "2022-05-12T13:03:21.091176Z"
        },
        "papermill": {
          "duration": 13.998863,
          "end_time": "2022-05-12T13:03:21.093792",
          "exception": false,
          "start_time": "2022-05-12T13:03:07.094929",
          "status": "completed"
        },
        "tags": [],
        "colab": {
          "base_uri": "https://localhost:8080/",
          "height": 349
        },
        "id": "2c5246ff",
        "outputId": "22b76c06-ecb6-4c54-f65e-749b8434f681"
      },
      "outputs": [
        {
          "output_type": "execute_result",
          "data": {
            "text/plain": [
              "            X53416      M83670       X90908       M97496     X90908.1  \\\n",
              "count    36.000000   36.000000    36.000000    36.000000    36.000000   \n",
              "mean    378.750000  177.305556   128.027778   568.305556    93.555556   \n",
              "std     648.716067  243.494655   787.935802   637.451928   557.527370   \n",
              "min    -694.000000 -117.000000   -50.000000     8.000000   -54.000000   \n",
              "25%     -95.750000  -31.000000   -13.250000    47.250000    -7.000000   \n",
              "50%     194.500000  117.000000    -4.500000   293.500000     3.000000   \n",
              "75%     721.750000  330.500000    14.000000  1079.250000    10.250000   \n",
              "max    1815.000000  718.000000  4723.000000  2261.000000  3344.000000   \n",
              "\n",
              "            U37019      R48602       T96548      X64559      T55741  ...  \\\n",
              "count    36.000000   36.000000    36.000000   36.000000   36.000000  ...   \n",
              "mean    366.833333  140.166667   644.194444   73.444444   68.055556  ...   \n",
              "std     427.166645  171.443202   685.514231   88.504219   90.766244  ...   \n",
              "min      -6.000000  -18.000000    -8.000000   -8.000000  -14.000000  ...   \n",
              "25%      27.250000   17.750000    33.250000    8.250000   -0.250000  ...   \n",
              "50%     110.500000   37.500000   333.500000   37.500000   23.500000  ...   \n",
              "75%     675.000000  268.500000  1185.250000  107.750000  109.250000  ...   \n",
              "max    1354.000000  718.000000  2203.000000  357.000000  357.000000  ...   \n",
              "\n",
              "           D14657      H87456      R64130     H11125.1      U22055  \\\n",
              "count   36.000000   36.000000   36.000000    36.000000   36.000000   \n",
              "mean    31.750000   71.111111   35.694444    53.194444   38.388889   \n",
              "std     50.036201  118.940748  127.437115   269.630628   47.619490   \n",
              "min    -21.000000  -24.000000  -12.000000 -1484.000000  -73.000000   \n",
              "25%      1.500000    9.000000   -1.250000    59.250000   12.750000   \n",
              "50%     10.000000   55.500000    3.000000    94.000000   36.000000   \n",
              "75%     48.000000   78.750000    6.000000   121.250000   64.000000   \n",
              "max    156.000000  686.000000  686.000000   251.000000  138.000000   \n",
              "\n",
              "           L22524     M13699.1      X54489       T55008     M10065.2  \n",
              "count   36.000000    36.000000   36.000000    36.000000    36.000000  \n",
              "mean    40.944444    41.222222   57.027778    58.694444    44.027778  \n",
              "std     83.763935   251.147778   71.322001   336.030766   224.891782  \n",
              "min    -16.000000   -23.000000   -5.000000   -17.000000  -214.000000  \n",
              "25%      3.500000    -4.750000    7.000000    -5.000000   -72.750000  \n",
              "50%      7.000000     0.000000   20.000000     1.500000   -12.000000  \n",
              "75%     39.500000     6.500000   98.250000     7.000000    74.250000  \n",
              "max    444.000000  1505.000000  271.000000  2018.000000  1089.000000  \n",
              "\n",
              "[8 rows x 7464 columns]"
            ],
            "text/html": [
              "\n",
              "  <div id=\"df-bc994971-afe1-4029-8cd0-69a437fb932e\" class=\"colab-df-container\">\n",
              "    <div>\n",
              "<style scoped>\n",
              "    .dataframe tbody tr th:only-of-type {\n",
              "        vertical-align: middle;\n",
              "    }\n",
              "\n",
              "    .dataframe tbody tr th {\n",
              "        vertical-align: top;\n",
              "    }\n",
              "\n",
              "    .dataframe thead th {\n",
              "        text-align: right;\n",
              "    }\n",
              "</style>\n",
              "<table border=\"1\" class=\"dataframe\">\n",
              "  <thead>\n",
              "    <tr style=\"text-align: right;\">\n",
              "      <th></th>\n",
              "      <th>X53416</th>\n",
              "      <th>M83670</th>\n",
              "      <th>X90908</th>\n",
              "      <th>M97496</th>\n",
              "      <th>X90908.1</th>\n",
              "      <th>U37019</th>\n",
              "      <th>R48602</th>\n",
              "      <th>T96548</th>\n",
              "      <th>X64559</th>\n",
              "      <th>T55741</th>\n",
              "      <th>...</th>\n",
              "      <th>D14657</th>\n",
              "      <th>H87456</th>\n",
              "      <th>R64130</th>\n",
              "      <th>H11125.1</th>\n",
              "      <th>U22055</th>\n",
              "      <th>L22524</th>\n",
              "      <th>M13699.1</th>\n",
              "      <th>X54489</th>\n",
              "      <th>T55008</th>\n",
              "      <th>M10065.2</th>\n",
              "    </tr>\n",
              "  </thead>\n",
              "  <tbody>\n",
              "    <tr>\n",
              "      <th>count</th>\n",
              "      <td>36.000000</td>\n",
              "      <td>36.000000</td>\n",
              "      <td>36.000000</td>\n",
              "      <td>36.000000</td>\n",
              "      <td>36.000000</td>\n",
              "      <td>36.000000</td>\n",
              "      <td>36.000000</td>\n",
              "      <td>36.000000</td>\n",
              "      <td>36.000000</td>\n",
              "      <td>36.000000</td>\n",
              "      <td>...</td>\n",
              "      <td>36.000000</td>\n",
              "      <td>36.000000</td>\n",
              "      <td>36.000000</td>\n",
              "      <td>36.000000</td>\n",
              "      <td>36.000000</td>\n",
              "      <td>36.000000</td>\n",
              "      <td>36.000000</td>\n",
              "      <td>36.000000</td>\n",
              "      <td>36.000000</td>\n",
              "      <td>36.000000</td>\n",
              "    </tr>\n",
              "    <tr>\n",
              "      <th>mean</th>\n",
              "      <td>378.750000</td>\n",
              "      <td>177.305556</td>\n",
              "      <td>128.027778</td>\n",
              "      <td>568.305556</td>\n",
              "      <td>93.555556</td>\n",
              "      <td>366.833333</td>\n",
              "      <td>140.166667</td>\n",
              "      <td>644.194444</td>\n",
              "      <td>73.444444</td>\n",
              "      <td>68.055556</td>\n",
              "      <td>...</td>\n",
              "      <td>31.750000</td>\n",
              "      <td>71.111111</td>\n",
              "      <td>35.694444</td>\n",
              "      <td>53.194444</td>\n",
              "      <td>38.388889</td>\n",
              "      <td>40.944444</td>\n",
              "      <td>41.222222</td>\n",
              "      <td>57.027778</td>\n",
              "      <td>58.694444</td>\n",
              "      <td>44.027778</td>\n",
              "    </tr>\n",
              "    <tr>\n",
              "      <th>std</th>\n",
              "      <td>648.716067</td>\n",
              "      <td>243.494655</td>\n",
              "      <td>787.935802</td>\n",
              "      <td>637.451928</td>\n",
              "      <td>557.527370</td>\n",
              "      <td>427.166645</td>\n",
              "      <td>171.443202</td>\n",
              "      <td>685.514231</td>\n",
              "      <td>88.504219</td>\n",
              "      <td>90.766244</td>\n",
              "      <td>...</td>\n",
              "      <td>50.036201</td>\n",
              "      <td>118.940748</td>\n",
              "      <td>127.437115</td>\n",
              "      <td>269.630628</td>\n",
              "      <td>47.619490</td>\n",
              "      <td>83.763935</td>\n",
              "      <td>251.147778</td>\n",
              "      <td>71.322001</td>\n",
              "      <td>336.030766</td>\n",
              "      <td>224.891782</td>\n",
              "    </tr>\n",
              "    <tr>\n",
              "      <th>min</th>\n",
              "      <td>-694.000000</td>\n",
              "      <td>-117.000000</td>\n",
              "      <td>-50.000000</td>\n",
              "      <td>8.000000</td>\n",
              "      <td>-54.000000</td>\n",
              "      <td>-6.000000</td>\n",
              "      <td>-18.000000</td>\n",
              "      <td>-8.000000</td>\n",
              "      <td>-8.000000</td>\n",
              "      <td>-14.000000</td>\n",
              "      <td>...</td>\n",
              "      <td>-21.000000</td>\n",
              "      <td>-24.000000</td>\n",
              "      <td>-12.000000</td>\n",
              "      <td>-1484.000000</td>\n",
              "      <td>-73.000000</td>\n",
              "      <td>-16.000000</td>\n",
              "      <td>-23.000000</td>\n",
              "      <td>-5.000000</td>\n",
              "      <td>-17.000000</td>\n",
              "      <td>-214.000000</td>\n",
              "    </tr>\n",
              "    <tr>\n",
              "      <th>25%</th>\n",
              "      <td>-95.750000</td>\n",
              "      <td>-31.000000</td>\n",
              "      <td>-13.250000</td>\n",
              "      <td>47.250000</td>\n",
              "      <td>-7.000000</td>\n",
              "      <td>27.250000</td>\n",
              "      <td>17.750000</td>\n",
              "      <td>33.250000</td>\n",
              "      <td>8.250000</td>\n",
              "      <td>-0.250000</td>\n",
              "      <td>...</td>\n",
              "      <td>1.500000</td>\n",
              "      <td>9.000000</td>\n",
              "      <td>-1.250000</td>\n",
              "      <td>59.250000</td>\n",
              "      <td>12.750000</td>\n",
              "      <td>3.500000</td>\n",
              "      <td>-4.750000</td>\n",
              "      <td>7.000000</td>\n",
              "      <td>-5.000000</td>\n",
              "      <td>-72.750000</td>\n",
              "    </tr>\n",
              "    <tr>\n",
              "      <th>50%</th>\n",
              "      <td>194.500000</td>\n",
              "      <td>117.000000</td>\n",
              "      <td>-4.500000</td>\n",
              "      <td>293.500000</td>\n",
              "      <td>3.000000</td>\n",
              "      <td>110.500000</td>\n",
              "      <td>37.500000</td>\n",
              "      <td>333.500000</td>\n",
              "      <td>37.500000</td>\n",
              "      <td>23.500000</td>\n",
              "      <td>...</td>\n",
              "      <td>10.000000</td>\n",
              "      <td>55.500000</td>\n",
              "      <td>3.000000</td>\n",
              "      <td>94.000000</td>\n",
              "      <td>36.000000</td>\n",
              "      <td>7.000000</td>\n",
              "      <td>0.000000</td>\n",
              "      <td>20.000000</td>\n",
              "      <td>1.500000</td>\n",
              "      <td>-12.000000</td>\n",
              "    </tr>\n",
              "    <tr>\n",
              "      <th>75%</th>\n",
              "      <td>721.750000</td>\n",
              "      <td>330.500000</td>\n",
              "      <td>14.000000</td>\n",
              "      <td>1079.250000</td>\n",
              "      <td>10.250000</td>\n",
              "      <td>675.000000</td>\n",
              "      <td>268.500000</td>\n",
              "      <td>1185.250000</td>\n",
              "      <td>107.750000</td>\n",
              "      <td>109.250000</td>\n",
              "      <td>...</td>\n",
              "      <td>48.000000</td>\n",
              "      <td>78.750000</td>\n",
              "      <td>6.000000</td>\n",
              "      <td>121.250000</td>\n",
              "      <td>64.000000</td>\n",
              "      <td>39.500000</td>\n",
              "      <td>6.500000</td>\n",
              "      <td>98.250000</td>\n",
              "      <td>7.000000</td>\n",
              "      <td>74.250000</td>\n",
              "    </tr>\n",
              "    <tr>\n",
              "      <th>max</th>\n",
              "      <td>1815.000000</td>\n",
              "      <td>718.000000</td>\n",
              "      <td>4723.000000</td>\n",
              "      <td>2261.000000</td>\n",
              "      <td>3344.000000</td>\n",
              "      <td>1354.000000</td>\n",
              "      <td>718.000000</td>\n",
              "      <td>2203.000000</td>\n",
              "      <td>357.000000</td>\n",
              "      <td>357.000000</td>\n",
              "      <td>...</td>\n",
              "      <td>156.000000</td>\n",
              "      <td>686.000000</td>\n",
              "      <td>686.000000</td>\n",
              "      <td>251.000000</td>\n",
              "      <td>138.000000</td>\n",
              "      <td>444.000000</td>\n",
              "      <td>1505.000000</td>\n",
              "      <td>271.000000</td>\n",
              "      <td>2018.000000</td>\n",
              "      <td>1089.000000</td>\n",
              "    </tr>\n",
              "  </tbody>\n",
              "</table>\n",
              "<p>8 rows × 7464 columns</p>\n",
              "</div>\n",
              "    <div class=\"colab-df-buttons\">\n",
              "\n",
              "  <div class=\"colab-df-container\">\n",
              "    <button class=\"colab-df-convert\" onclick=\"convertToInteractive('df-bc994971-afe1-4029-8cd0-69a437fb932e')\"\n",
              "            title=\"Convert this dataframe to an interactive table.\"\n",
              "            style=\"display:none;\">\n",
              "\n",
              "  <svg xmlns=\"http://www.w3.org/2000/svg\" height=\"24px\" viewBox=\"0 -960 960 960\">\n",
              "    <path d=\"M120-120v-720h720v720H120Zm60-500h600v-160H180v160Zm220 220h160v-160H400v160Zm0 220h160v-160H400v160ZM180-400h160v-160H180v160Zm440 0h160v-160H620v160ZM180-180h160v-160H180v160Zm440 0h160v-160H620v160Z\"/>\n",
              "  </svg>\n",
              "    </button>\n",
              "\n",
              "  <style>\n",
              "    .colab-df-container {\n",
              "      display:flex;\n",
              "      gap: 12px;\n",
              "    }\n",
              "\n",
              "    .colab-df-convert {\n",
              "      background-color: #E8F0FE;\n",
              "      border: none;\n",
              "      border-radius: 50%;\n",
              "      cursor: pointer;\n",
              "      display: none;\n",
              "      fill: #1967D2;\n",
              "      height: 32px;\n",
              "      padding: 0 0 0 0;\n",
              "      width: 32px;\n",
              "    }\n",
              "\n",
              "    .colab-df-convert:hover {\n",
              "      background-color: #E2EBFA;\n",
              "      box-shadow: 0px 1px 2px rgba(60, 64, 67, 0.3), 0px 1px 3px 1px rgba(60, 64, 67, 0.15);\n",
              "      fill: #174EA6;\n",
              "    }\n",
              "\n",
              "    .colab-df-buttons div {\n",
              "      margin-bottom: 4px;\n",
              "    }\n",
              "\n",
              "    [theme=dark] .colab-df-convert {\n",
              "      background-color: #3B4455;\n",
              "      fill: #D2E3FC;\n",
              "    }\n",
              "\n",
              "    [theme=dark] .colab-df-convert:hover {\n",
              "      background-color: #434B5C;\n",
              "      box-shadow: 0px 1px 3px 1px rgba(0, 0, 0, 0.15);\n",
              "      filter: drop-shadow(0px 1px 2px rgba(0, 0, 0, 0.3));\n",
              "      fill: #FFFFFF;\n",
              "    }\n",
              "  </style>\n",
              "\n",
              "    <script>\n",
              "      const buttonEl =\n",
              "        document.querySelector('#df-bc994971-afe1-4029-8cd0-69a437fb932e button.colab-df-convert');\n",
              "      buttonEl.style.display =\n",
              "        google.colab.kernel.accessAllowed ? 'block' : 'none';\n",
              "\n",
              "      async function convertToInteractive(key) {\n",
              "        const element = document.querySelector('#df-bc994971-afe1-4029-8cd0-69a437fb932e');\n",
              "        const dataTable =\n",
              "          await google.colab.kernel.invokeFunction('convertToInteractive',\n",
              "                                                    [key], {});\n",
              "        if (!dataTable) return;\n",
              "\n",
              "        const docLinkHtml = 'Like what you see? Visit the ' +\n",
              "          '<a target=\"_blank\" href=https://colab.research.google.com/notebooks/data_table.ipynb>data table notebook</a>'\n",
              "          + ' to learn more about interactive tables.';\n",
              "        element.innerHTML = '';\n",
              "        dataTable['output_type'] = 'display_data';\n",
              "        await google.colab.output.renderOutput(dataTable, element);\n",
              "        const docLink = document.createElement('div');\n",
              "        docLink.innerHTML = docLinkHtml;\n",
              "        element.appendChild(docLink);\n",
              "      }\n",
              "    </script>\n",
              "  </div>\n",
              "\n",
              "\n",
              "<div id=\"df-2b0e4875-f766-4068-8523-fdf11cd459d3\">\n",
              "  <button class=\"colab-df-quickchart\" onclick=\"quickchart('df-2b0e4875-f766-4068-8523-fdf11cd459d3')\"\n",
              "            title=\"Suggest charts\"\n",
              "            style=\"display:none;\">\n",
              "\n",
              "<svg xmlns=\"http://www.w3.org/2000/svg\" height=\"24px\"viewBox=\"0 0 24 24\"\n",
              "     width=\"24px\">\n",
              "    <g>\n",
              "        <path d=\"M19 3H5c-1.1 0-2 .9-2 2v14c0 1.1.9 2 2 2h14c1.1 0 2-.9 2-2V5c0-1.1-.9-2-2-2zM9 17H7v-7h2v7zm4 0h-2V7h2v10zm4 0h-2v-4h2v4z\"/>\n",
              "    </g>\n",
              "</svg>\n",
              "  </button>\n",
              "\n",
              "<style>\n",
              "  .colab-df-quickchart {\n",
              "      --bg-color: #E8F0FE;\n",
              "      --fill-color: #1967D2;\n",
              "      --hover-bg-color: #E2EBFA;\n",
              "      --hover-fill-color: #174EA6;\n",
              "      --disabled-fill-color: #AAA;\n",
              "      --disabled-bg-color: #DDD;\n",
              "  }\n",
              "\n",
              "  [theme=dark] .colab-df-quickchart {\n",
              "      --bg-color: #3B4455;\n",
              "      --fill-color: #D2E3FC;\n",
              "      --hover-bg-color: #434B5C;\n",
              "      --hover-fill-color: #FFFFFF;\n",
              "      --disabled-bg-color: #3B4455;\n",
              "      --disabled-fill-color: #666;\n",
              "  }\n",
              "\n",
              "  .colab-df-quickchart {\n",
              "    background-color: var(--bg-color);\n",
              "    border: none;\n",
              "    border-radius: 50%;\n",
              "    cursor: pointer;\n",
              "    display: none;\n",
              "    fill: var(--fill-color);\n",
              "    height: 32px;\n",
              "    padding: 0;\n",
              "    width: 32px;\n",
              "  }\n",
              "\n",
              "  .colab-df-quickchart:hover {\n",
              "    background-color: var(--hover-bg-color);\n",
              "    box-shadow: 0 1px 2px rgba(60, 64, 67, 0.3), 0 1px 3px 1px rgba(60, 64, 67, 0.15);\n",
              "    fill: var(--button-hover-fill-color);\n",
              "  }\n",
              "\n",
              "  .colab-df-quickchart-complete:disabled,\n",
              "  .colab-df-quickchart-complete:disabled:hover {\n",
              "    background-color: var(--disabled-bg-color);\n",
              "    fill: var(--disabled-fill-color);\n",
              "    box-shadow: none;\n",
              "  }\n",
              "\n",
              "  .colab-df-spinner {\n",
              "    border: 2px solid var(--fill-color);\n",
              "    border-color: transparent;\n",
              "    border-bottom-color: var(--fill-color);\n",
              "    animation:\n",
              "      spin 1s steps(1) infinite;\n",
              "  }\n",
              "\n",
              "  @keyframes spin {\n",
              "    0% {\n",
              "      border-color: transparent;\n",
              "      border-bottom-color: var(--fill-color);\n",
              "      border-left-color: var(--fill-color);\n",
              "    }\n",
              "    20% {\n",
              "      border-color: transparent;\n",
              "      border-left-color: var(--fill-color);\n",
              "      border-top-color: var(--fill-color);\n",
              "    }\n",
              "    30% {\n",
              "      border-color: transparent;\n",
              "      border-left-color: var(--fill-color);\n",
              "      border-top-color: var(--fill-color);\n",
              "      border-right-color: var(--fill-color);\n",
              "    }\n",
              "    40% {\n",
              "      border-color: transparent;\n",
              "      border-right-color: var(--fill-color);\n",
              "      border-top-color: var(--fill-color);\n",
              "    }\n",
              "    60% {\n",
              "      border-color: transparent;\n",
              "      border-right-color: var(--fill-color);\n",
              "    }\n",
              "    80% {\n",
              "      border-color: transparent;\n",
              "      border-right-color: var(--fill-color);\n",
              "      border-bottom-color: var(--fill-color);\n",
              "    }\n",
              "    90% {\n",
              "      border-color: transparent;\n",
              "      border-bottom-color: var(--fill-color);\n",
              "    }\n",
              "  }\n",
              "</style>\n",
              "\n",
              "  <script>\n",
              "    async function quickchart(key) {\n",
              "      const quickchartButtonEl =\n",
              "        document.querySelector('#' + key + ' button');\n",
              "      quickchartButtonEl.disabled = true;  // To prevent multiple clicks.\n",
              "      quickchartButtonEl.classList.add('colab-df-spinner');\n",
              "      try {\n",
              "        const charts = await google.colab.kernel.invokeFunction(\n",
              "            'suggestCharts', [key], {});\n",
              "      } catch (error) {\n",
              "        console.error('Error during call to suggestCharts:', error);\n",
              "      }\n",
              "      quickchartButtonEl.classList.remove('colab-df-spinner');\n",
              "      quickchartButtonEl.classList.add('colab-df-quickchart-complete');\n",
              "    }\n",
              "    (() => {\n",
              "      let quickchartButtonEl =\n",
              "        document.querySelector('#df-2b0e4875-f766-4068-8523-fdf11cd459d3 button');\n",
              "      quickchartButtonEl.style.display =\n",
              "        google.colab.kernel.accessAllowed ? 'block' : 'none';\n",
              "    })();\n",
              "  </script>\n",
              "</div>\n",
              "    </div>\n",
              "  </div>\n"
            ],
            "application/vnd.google.colaboratory.intrinsic+json": {
              "type": "dataframe"
            }
          },
          "metadata": {},
          "execution_count": 10
        }
      ],
      "source": [
        "df.describe()"
      ]
    },
    {
      "cell_type": "code",
      "execution_count": null,
      "id": "f69beed3",
      "metadata": {
        "execution": {
          "iopub.execute_input": "2022-05-12T13:03:21.210799Z",
          "iopub.status.busy": "2022-05-12T13:03:21.210210Z",
          "iopub.status.idle": "2022-05-12T13:03:21.216144Z",
          "shell.execute_reply": "2022-05-12T13:03:21.215208Z"
        },
        "papermill": {
          "duration": 0.066841,
          "end_time": "2022-05-12T13:03:21.218385",
          "exception": false,
          "start_time": "2022-05-12T13:03:21.151544",
          "status": "completed"
        },
        "tags": [],
        "id": "f69beed3"
      },
      "outputs": [],
      "source": [
        "X=df.iloc[:,:-1].values\n",
        "y=df.iloc[:,-1].values"
      ]
    },
    {
      "cell_type": "markdown",
      "id": "697b9a55",
      "metadata": {
        "papermill": {
          "duration": 0.058517,
          "end_time": "2022-05-12T13:03:21.335720",
          "exception": false,
          "start_time": "2022-05-12T13:03:21.277203",
          "status": "completed"
        },
        "tags": [],
        "id": "697b9a55"
      },
      "source": [
        "# Label Encoding"
      ]
    },
    {
      "cell_type": "code",
      "execution_count": null,
      "id": "48fe7eeb",
      "metadata": {
        "execution": {
          "iopub.execute_input": "2022-05-12T13:03:21.451500Z",
          "iopub.status.busy": "2022-05-12T13:03:21.451233Z",
          "iopub.status.idle": "2022-05-12T13:03:21.591096Z",
          "shell.execute_reply": "2022-05-12T13:03:21.590235Z"
        },
        "papermill": {
          "duration": 0.200821,
          "end_time": "2022-05-12T13:03:21.593476",
          "exception": false,
          "start_time": "2022-05-12T13:03:21.392655",
          "status": "completed"
        },
        "tags": [],
        "id": "48fe7eeb"
      },
      "outputs": [],
      "source": [
        "from sklearn import preprocessing\n",
        "label_encoder = preprocessing.LabelEncoder()\n",
        "df['y']= label_encoder.fit_transform(df['y'])"
      ]
    },
    {
      "cell_type": "code",
      "execution_count": null,
      "id": "30811a1f",
      "metadata": {
        "execution": {
          "iopub.execute_input": "2022-05-12T13:03:21.710011Z",
          "iopub.status.busy": "2022-05-12T13:03:21.709125Z",
          "iopub.status.idle": "2022-05-12T13:03:21.715163Z",
          "shell.execute_reply": "2022-05-12T13:03:21.714493Z"
        },
        "papermill": {
          "duration": 0.066376,
          "end_time": "2022-05-12T13:03:21.717080",
          "exception": false,
          "start_time": "2022-05-12T13:03:21.650704",
          "status": "completed"
        },
        "tags": [],
        "colab": {
          "base_uri": "https://localhost:8080/"
        },
        "id": "30811a1f",
        "outputId": "5a403f84-a976-433a-ccc2-c055cac730a3"
      },
      "outputs": [
        {
          "output_type": "execute_result",
          "data": {
            "text/plain": [
              "array([1, 0])"
            ]
          },
          "metadata": {},
          "execution_count": 13
        }
      ],
      "source": [
        "df['y'].unique()"
      ]
    },
    {
      "cell_type": "markdown",
      "id": "e49529ad",
      "metadata": {
        "papermill": {
          "duration": 0.057168,
          "end_time": "2022-05-12T13:03:21.831728",
          "exception": false,
          "start_time": "2022-05-12T13:03:21.774560",
          "status": "completed"
        },
        "tags": [],
        "id": "e49529ad"
      },
      "source": [
        "# Split datset into training and testing data"
      ]
    },
    {
      "cell_type": "code",
      "execution_count": null,
      "id": "22cb08c7",
      "metadata": {
        "execution": {
          "iopub.execute_input": "2022-05-12T13:03:21.950372Z",
          "iopub.status.busy": "2022-05-12T13:03:21.949848Z",
          "iopub.status.idle": "2022-05-12T13:03:22.014749Z",
          "shell.execute_reply": "2022-05-12T13:03:22.013765Z"
        },
        "papermill": {
          "duration": 0.127183,
          "end_time": "2022-05-12T13:03:22.017592",
          "exception": false,
          "start_time": "2022-05-12T13:03:21.890409",
          "status": "completed"
        },
        "tags": [],
        "id": "22cb08c7"
      },
      "outputs": [],
      "source": [
        "from sklearn.model_selection import train_test_split\n",
        "X_train, X_test, y_train, y_test = train_test_split(X,y,test_size=.2,random_state=42)"
      ]
    },
    {
      "cell_type": "markdown",
      "id": "05cf322e",
      "metadata": {
        "papermill": {
          "duration": 0.057416,
          "end_time": "2022-05-12T13:03:22.133012",
          "exception": false,
          "start_time": "2022-05-12T13:03:22.075596",
          "status": "completed"
        },
        "tags": [],
        "id": "05cf322e"
      },
      "source": [
        "# Training data"
      ]
    },
    {
      "cell_type": "code",
      "execution_count": null,
      "id": "a8ee8248",
      "metadata": {
        "execution": {
          "iopub.execute_input": "2022-05-12T13:03:22.249593Z",
          "iopub.status.busy": "2022-05-12T13:03:22.249331Z",
          "iopub.status.idle": "2022-05-12T13:03:22.255449Z",
          "shell.execute_reply": "2022-05-12T13:03:22.254555Z"
        },
        "papermill": {
          "duration": 0.06688,
          "end_time": "2022-05-12T13:03:22.257367",
          "exception": false,
          "start_time": "2022-05-12T13:03:22.190487",
          "status": "completed"
        },
        "tags": [],
        "colab": {
          "base_uri": "https://localhost:8080/"
        },
        "id": "a8ee8248",
        "outputId": "32808bd9-287e-4bfb-93fc-49c493ef693a"
      },
      "outputs": [
        {
          "output_type": "execute_result",
          "data": {
            "text/plain": [
              "array([[-378,   31,  -29, ...,   97,    0,  -51],\n",
              "       [  71, -117,   -1, ...,  114,    1, 1089],\n",
              "       [ 475,  -79,   20, ...,   76,   11,   22],\n",
              "       ...,\n",
              "       [-346,  -35,   37, ...,   30,   -5,  -53],\n",
              "       [-357,    6,   20, ...,   52,   -1,  -72],\n",
              "       [1122,  416,   -7, ...,   16,  -17,  -10]])"
            ]
          },
          "metadata": {},
          "execution_count": 15
        }
      ],
      "source": [
        "X_train"
      ]
    },
    {
      "cell_type": "code",
      "execution_count": null,
      "id": "4c883de3",
      "metadata": {
        "execution": {
          "iopub.execute_input": "2022-05-12T13:03:22.375663Z",
          "iopub.status.busy": "2022-05-12T13:03:22.375190Z",
          "iopub.status.idle": "2022-05-12T13:03:22.379918Z",
          "shell.execute_reply": "2022-05-12T13:03:22.379307Z"
        },
        "papermill": {
          "duration": 0.066317,
          "end_time": "2022-05-12T13:03:22.381747",
          "exception": false,
          "start_time": "2022-05-12T13:03:22.315430",
          "status": "completed"
        },
        "tags": [],
        "colab": {
          "base_uri": "https://localhost:8080/"
        },
        "id": "4c883de3",
        "outputId": "a533bdc6-4cf9-4679-c7cd-913a052f3839"
      },
      "outputs": [
        {
          "output_type": "execute_result",
          "data": {
            "text/plain": [
              "array(['tumor', 'tumor', 'tumor', 'Normal', 'tumor', 'tumor', 'Normal',\n",
              "       'tumor', 'Normal', 'tumor', 'tumor', 'tumor', 'Normal', 'tumor',\n",
              "       'Normal', 'tumor', 'Normal', 'Normal', 'Normal', 'tumor', 'Normal',\n",
              "       'Normal', 'Normal', 'tumor', 'Normal', 'tumor', 'tumor', 'Normal'],\n",
              "      dtype=object)"
            ]
          },
          "metadata": {},
          "execution_count": 16
        }
      ],
      "source": [
        "y_train"
      ]
    },
    {
      "cell_type": "markdown",
      "id": "76805927",
      "metadata": {
        "papermill": {
          "duration": 0.057855,
          "end_time": "2022-05-12T13:03:22.497496",
          "exception": false,
          "start_time": "2022-05-12T13:03:22.439641",
          "status": "completed"
        },
        "tags": [],
        "id": "76805927"
      },
      "source": [
        "# Testing data"
      ]
    },
    {
      "cell_type": "code",
      "execution_count": null,
      "id": "bcb519b2",
      "metadata": {
        "execution": {
          "iopub.execute_input": "2022-05-12T13:03:22.615202Z",
          "iopub.status.busy": "2022-05-12T13:03:22.614698Z",
          "iopub.status.idle": "2022-05-12T13:03:22.619673Z",
          "shell.execute_reply": "2022-05-12T13:03:22.619035Z"
        },
        "papermill": {
          "duration": 0.06629,
          "end_time": "2022-05-12T13:03:22.621624",
          "exception": false,
          "start_time": "2022-05-12T13:03:22.555334",
          "status": "completed"
        },
        "tags": [],
        "colab": {
          "base_uri": "https://localhost:8080/"
        },
        "id": "bcb519b2",
        "outputId": "674bae1a-f8c2-428c-8925-0b4b59d01ff0"
      },
      "outputs": [
        {
          "output_type": "execute_result",
          "data": {
            "text/plain": [
              "array([[ 928,  332,    4, ...,   32,   -5,   72],\n",
              "       [-694,  -45,  -34, ...,  179,   -1, -139],\n",
              "       [ 632,  185, 4723, ...,    3,   -4, -103],\n",
              "       ...,\n",
              "       [ 488,  564,  -29, ...,   11,    7, -145],\n",
              "       [ 462,  379,  -21, ...,   10,   -5,   66],\n",
              "       [ 465, -104,    5, ...,  131,   -5,  267]])"
            ]
          },
          "metadata": {},
          "execution_count": 17
        }
      ],
      "source": [
        "X_test"
      ]
    },
    {
      "cell_type": "code",
      "execution_count": null,
      "id": "887fa810",
      "metadata": {
        "execution": {
          "iopub.execute_input": "2022-05-12T13:03:22.741390Z",
          "iopub.status.busy": "2022-05-12T13:03:22.740886Z",
          "iopub.status.idle": "2022-05-12T13:03:22.745722Z",
          "shell.execute_reply": "2022-05-12T13:03:22.744972Z"
        },
        "papermill": {
          "duration": 0.067271,
          "end_time": "2022-05-12T13:03:22.747758",
          "exception": false,
          "start_time": "2022-05-12T13:03:22.680487",
          "status": "completed"
        },
        "tags": [],
        "colab": {
          "base_uri": "https://localhost:8080/"
        },
        "id": "887fa810",
        "outputId": "2316effa-d959-4655-dd82-b015d95d18f2"
      },
      "outputs": [
        {
          "output_type": "execute_result",
          "data": {
            "text/plain": [
              "array(['Normal', 'tumor', 'Normal', 'Normal', 'tumor', 'Normal', 'Normal',\n",
              "       'tumor'], dtype=object)"
            ]
          },
          "metadata": {},
          "execution_count": 18
        }
      ],
      "source": [
        "y_test"
      ]
    },
    {
      "cell_type": "markdown",
      "id": "9702d4d6",
      "metadata": {
        "papermill": {
          "duration": 0.058391,
          "end_time": "2022-05-12T13:03:22.865642",
          "exception": false,
          "start_time": "2022-05-12T13:03:22.807251",
          "status": "completed"
        },
        "tags": [],
        "id": "9702d4d6"
      },
      "source": [
        "# Transformation of data"
      ]
    },
    {
      "cell_type": "code",
      "execution_count": null,
      "id": "cfa6d38a",
      "metadata": {
        "execution": {
          "iopub.execute_input": "2022-05-12T13:03:22.986601Z",
          "iopub.status.busy": "2022-05-12T13:03:22.986052Z",
          "iopub.status.idle": "2022-05-12T13:03:22.996456Z",
          "shell.execute_reply": "2022-05-12T13:03:22.995809Z"
        },
        "papermill": {
          "duration": 0.074123,
          "end_time": "2022-05-12T13:03:22.998607",
          "exception": false,
          "start_time": "2022-05-12T13:03:22.924484",
          "status": "completed"
        },
        "tags": [],
        "id": "cfa6d38a"
      },
      "outputs": [],
      "source": [
        "from sklearn.preprocessing import StandardScaler\n",
        "sc=StandardScaler()\n",
        "X_train=sc.fit_transform(X_train)\n",
        "X_test=sc.transform(X_test)"
      ]
    },
    {
      "cell_type": "markdown",
      "id": "895f394a",
      "metadata": {
        "papermill": {
          "duration": 0.058574,
          "end_time": "2022-05-12T13:03:23.116907",
          "exception": false,
          "start_time": "2022-05-12T13:03:23.058333",
          "status": "completed"
        },
        "tags": [],
        "id": "895f394a"
      },
      "source": [
        "# Shape of X_train and y_train"
      ]
    },
    {
      "cell_type": "code",
      "execution_count": null,
      "id": "bc00b449",
      "metadata": {
        "execution": {
          "iopub.execute_input": "2022-05-12T13:03:23.262439Z",
          "iopub.status.busy": "2022-05-12T13:03:23.262044Z",
          "iopub.status.idle": "2022-05-12T13:03:23.270763Z",
          "shell.execute_reply": "2022-05-12T13:03:23.270064Z"
        },
        "papermill": {
          "duration": 0.095264,
          "end_time": "2022-05-12T13:03:23.273910",
          "exception": false,
          "start_time": "2022-05-12T13:03:23.178646",
          "status": "completed"
        },
        "tags": [],
        "colab": {
          "base_uri": "https://localhost:8080/"
        },
        "id": "bc00b449",
        "outputId": "dfdf5966-926a-4690-a07c-32878a4bc920"
      },
      "outputs": [
        {
          "output_type": "stream",
          "name": "stdout",
          "text": [
            "(28, 7464)\n",
            "(28,)\n"
          ]
        }
      ],
      "source": [
        "print(X_train.shape)\n",
        "print(y_train.shape)"
      ]
    },
    {
      "cell_type": "markdown",
      "id": "d464a29e",
      "metadata": {
        "papermill": {
          "duration": 0.066942,
          "end_time": "2022-05-12T13:03:23.440014",
          "exception": false,
          "start_time": "2022-05-12T13:03:23.373072",
          "status": "completed"
        },
        "tags": [],
        "id": "d464a29e"
      },
      "source": [
        "# Machine Learning(Classification)\n",
        "\n",
        "- Logistic Regression\n",
        "- KNN(KNearest Neighbors)\n",
        "- Random Forest Classifier\n",
        "- Decision Tree Classifier"
      ]
    },
    {
      "cell_type": "markdown",
      "id": "7841fe7a",
      "metadata": {
        "papermill": {
          "duration": 0.063664,
          "end_time": "2022-05-12T13:03:23.569655",
          "exception": false,
          "start_time": "2022-05-12T13:03:23.505991",
          "status": "completed"
        },
        "tags": [],
        "id": "7841fe7a"
      },
      "source": [
        "# Logistic Regression"
      ]
    },
    {
      "cell_type": "code",
      "execution_count": null,
      "id": "5c75ec93",
      "metadata": {
        "execution": {
          "iopub.execute_input": "2022-05-12T13:03:23.700055Z",
          "iopub.status.busy": "2022-05-12T13:03:23.699478Z",
          "iopub.status.idle": "2022-05-12T13:03:23.894534Z",
          "shell.execute_reply": "2022-05-12T13:03:23.893415Z"
        },
        "papermill": {
          "duration": 0.260811,
          "end_time": "2022-05-12T13:03:23.898297",
          "exception": false,
          "start_time": "2022-05-12T13:03:23.637486",
          "status": "completed"
        },
        "tags": [],
        "colab": {
          "base_uri": "https://localhost:8080/",
          "height": 74
        },
        "id": "5c75ec93",
        "outputId": "74b007c7-8601-4119-c454-263ebde06297"
      },
      "outputs": [
        {
          "output_type": "execute_result",
          "data": {
            "text/plain": [
              "LogisticRegression()"
            ],
            "text/html": [
              "<style>#sk-container-id-1 {color: black;background-color: white;}#sk-container-id-1 pre{padding: 0;}#sk-container-id-1 div.sk-toggleable {background-color: white;}#sk-container-id-1 label.sk-toggleable__label {cursor: pointer;display: block;width: 100%;margin-bottom: 0;padding: 0.3em;box-sizing: border-box;text-align: center;}#sk-container-id-1 label.sk-toggleable__label-arrow:before {content: \"▸\";float: left;margin-right: 0.25em;color: #696969;}#sk-container-id-1 label.sk-toggleable__label-arrow:hover:before {color: black;}#sk-container-id-1 div.sk-estimator:hover label.sk-toggleable__label-arrow:before {color: black;}#sk-container-id-1 div.sk-toggleable__content {max-height: 0;max-width: 0;overflow: hidden;text-align: left;background-color: #f0f8ff;}#sk-container-id-1 div.sk-toggleable__content pre {margin: 0.2em;color: black;border-radius: 0.25em;background-color: #f0f8ff;}#sk-container-id-1 input.sk-toggleable__control:checked~div.sk-toggleable__content {max-height: 200px;max-width: 100%;overflow: auto;}#sk-container-id-1 input.sk-toggleable__control:checked~label.sk-toggleable__label-arrow:before {content: \"▾\";}#sk-container-id-1 div.sk-estimator input.sk-toggleable__control:checked~label.sk-toggleable__label {background-color: #d4ebff;}#sk-container-id-1 div.sk-label input.sk-toggleable__control:checked~label.sk-toggleable__label {background-color: #d4ebff;}#sk-container-id-1 input.sk-hidden--visually {border: 0;clip: rect(1px 1px 1px 1px);clip: rect(1px, 1px, 1px, 1px);height: 1px;margin: -1px;overflow: hidden;padding: 0;position: absolute;width: 1px;}#sk-container-id-1 div.sk-estimator {font-family: monospace;background-color: #f0f8ff;border: 1px dotted black;border-radius: 0.25em;box-sizing: border-box;margin-bottom: 0.5em;}#sk-container-id-1 div.sk-estimator:hover {background-color: #d4ebff;}#sk-container-id-1 div.sk-parallel-item::after {content: \"\";width: 100%;border-bottom: 1px solid gray;flex-grow: 1;}#sk-container-id-1 div.sk-label:hover label.sk-toggleable__label {background-color: #d4ebff;}#sk-container-id-1 div.sk-serial::before {content: \"\";position: absolute;border-left: 1px solid gray;box-sizing: border-box;top: 0;bottom: 0;left: 50%;z-index: 0;}#sk-container-id-1 div.sk-serial {display: flex;flex-direction: column;align-items: center;background-color: white;padding-right: 0.2em;padding-left: 0.2em;position: relative;}#sk-container-id-1 div.sk-item {position: relative;z-index: 1;}#sk-container-id-1 div.sk-parallel {display: flex;align-items: stretch;justify-content: center;background-color: white;position: relative;}#sk-container-id-1 div.sk-item::before, #sk-container-id-1 div.sk-parallel-item::before {content: \"\";position: absolute;border-left: 1px solid gray;box-sizing: border-box;top: 0;bottom: 0;left: 50%;z-index: -1;}#sk-container-id-1 div.sk-parallel-item {display: flex;flex-direction: column;z-index: 1;position: relative;background-color: white;}#sk-container-id-1 div.sk-parallel-item:first-child::after {align-self: flex-end;width: 50%;}#sk-container-id-1 div.sk-parallel-item:last-child::after {align-self: flex-start;width: 50%;}#sk-container-id-1 div.sk-parallel-item:only-child::after {width: 0;}#sk-container-id-1 div.sk-dashed-wrapped {border: 1px dashed gray;margin: 0 0.4em 0.5em 0.4em;box-sizing: border-box;padding-bottom: 0.4em;background-color: white;}#sk-container-id-1 div.sk-label label {font-family: monospace;font-weight: bold;display: inline-block;line-height: 1.2em;}#sk-container-id-1 div.sk-label-container {text-align: center;}#sk-container-id-1 div.sk-container {/* jupyter's `normalize.less` sets `[hidden] { display: none; }` but bootstrap.min.css set `[hidden] { display: none !important; }` so we also need the `!important` here to be able to override the default hidden behavior on the sphinx rendered scikit-learn.org. See: https://github.com/scikit-learn/scikit-learn/issues/21755 */display: inline-block !important;position: relative;}#sk-container-id-1 div.sk-text-repr-fallback {display: none;}</style><div id=\"sk-container-id-1\" class=\"sk-top-container\"><div class=\"sk-text-repr-fallback\"><pre>LogisticRegression()</pre><b>In a Jupyter environment, please rerun this cell to show the HTML representation or trust the notebook. <br />On GitHub, the HTML representation is unable to render, please try loading this page with nbviewer.org.</b></div><div class=\"sk-container\" hidden><div class=\"sk-item\"><div class=\"sk-estimator sk-toggleable\"><input class=\"sk-toggleable__control sk-hidden--visually\" id=\"sk-estimator-id-1\" type=\"checkbox\" checked><label for=\"sk-estimator-id-1\" class=\"sk-toggleable__label sk-toggleable__label-arrow\">LogisticRegression</label><div class=\"sk-toggleable__content\"><pre>LogisticRegression()</pre></div></div></div></div></div>"
            ]
          },
          "metadata": {},
          "execution_count": 21
        }
      ],
      "source": [
        "# build the model\n",
        "from sklearn.linear_model import LogisticRegression\n",
        "# Fit LogisticRegression\n",
        "log_reg = LogisticRegression()\n",
        "log_reg.fit(X_train,y_train)"
      ]
    },
    {
      "cell_type": "code",
      "execution_count": null,
      "id": "3697ca74",
      "metadata": {
        "execution": {
          "iopub.execute_input": "2022-05-12T13:03:24.064934Z",
          "iopub.status.busy": "2022-05-12T13:03:24.064663Z",
          "iopub.status.idle": "2022-05-12T13:03:24.071759Z",
          "shell.execute_reply": "2022-05-12T13:03:24.071010Z"
        },
        "papermill": {
          "duration": 0.073029,
          "end_time": "2022-05-12T13:03:24.075952",
          "exception": false,
          "start_time": "2022-05-12T13:03:24.002923",
          "status": "completed"
        },
        "tags": [],
        "colab": {
          "base_uri": "https://localhost:8080/"
        },
        "id": "3697ca74",
        "outputId": "5f7d4577-5342-4e1a-cc16-4c5debe2671a"
      },
      "outputs": [
        {
          "output_type": "execute_result",
          "data": {
            "text/plain": [
              "array(['Normal', 'tumor', 'Normal', 'Normal', 'tumor', 'Normal', 'Normal',\n",
              "       'tumor'], dtype=object)"
            ]
          },
          "metadata": {},
          "execution_count": 22
        }
      ],
      "source": [
        "#Prediction\n",
        "y_predict = log_reg.predict(X_test)\n",
        "y_predict"
      ]
    },
    {
      "cell_type": "code",
      "execution_count": null,
      "id": "e21b23a9",
      "metadata": {
        "execution": {
          "iopub.execute_input": "2022-05-12T13:03:24.251731Z",
          "iopub.status.busy": "2022-05-12T13:03:24.251208Z",
          "iopub.status.idle": "2022-05-12T13:03:24.256787Z",
          "shell.execute_reply": "2022-05-12T13:03:24.255912Z"
        },
        "papermill": {
          "duration": 0.073872,
          "end_time": "2022-05-12T13:03:24.259857",
          "exception": false,
          "start_time": "2022-05-12T13:03:24.185985",
          "status": "completed"
        },
        "tags": [],
        "colab": {
          "base_uri": "https://localhost:8080/"
        },
        "id": "e21b23a9",
        "outputId": "ac721400-a85b-4e99-e029-4276d22c89c8"
      },
      "outputs": [
        {
          "output_type": "stream",
          "name": "stdout",
          "text": [
            "1.0\n"
          ]
        }
      ],
      "source": [
        "## Accuracy\n",
        "score = log_reg.score(X_test, y_test)\n",
        "print(score)"
      ]
    },
    {
      "cell_type": "code",
      "execution_count": null,
      "id": "be32a38c",
      "metadata": {
        "execution": {
          "iopub.execute_input": "2022-05-12T13:03:24.389247Z",
          "iopub.status.busy": "2022-05-12T13:03:24.388985Z",
          "iopub.status.idle": "2022-05-12T13:03:24.398497Z",
          "shell.execute_reply": "2022-05-12T13:03:24.397629Z"
        },
        "papermill": {
          "duration": 0.073056,
          "end_time": "2022-05-12T13:03:24.400484",
          "exception": false,
          "start_time": "2022-05-12T13:03:24.327428",
          "status": "completed"
        },
        "tags": [],
        "colab": {
          "base_uri": "https://localhost:8080/"
        },
        "id": "be32a38c",
        "outputId": "b5ab7d85-735b-45da-817e-9e451a095203"
      },
      "outputs": [
        {
          "output_type": "execute_result",
          "data": {
            "text/plain": [
              "array([[5, 0],\n",
              "       [0, 3]])"
            ]
          },
          "metadata": {},
          "execution_count": 24
        }
      ],
      "source": [
        "from sklearn import metrics\n",
        "cnf_matrix = metrics.confusion_matrix(y_test, y_predict)\n",
        "cnf_matrix"
      ]
    },
    {
      "cell_type": "code",
      "execution_count": null,
      "id": "6ad70a70",
      "metadata": {
        "execution": {
          "iopub.execute_input": "2022-05-12T13:03:24.523622Z",
          "iopub.status.busy": "2022-05-12T13:03:24.523334Z",
          "iopub.status.idle": "2022-05-12T13:03:24.532233Z",
          "shell.execute_reply": "2022-05-12T13:03:24.531136Z"
        },
        "papermill": {
          "duration": 0.073077,
          "end_time": "2022-05-12T13:03:24.534348",
          "exception": false,
          "start_time": "2022-05-12T13:03:24.461271",
          "status": "completed"
        },
        "tags": [],
        "colab": {
          "base_uri": "https://localhost:8080/"
        },
        "id": "6ad70a70",
        "outputId": "8acf26a8-635d-4842-8b6e-81fedb6e3316"
      },
      "outputs": [
        {
          "output_type": "stream",
          "name": "stdout",
          "text": [
            "              precision    recall  f1-score   support\n",
            "\n",
            "      Normal       1.00      1.00      1.00         5\n",
            "       tumor       1.00      1.00      1.00         3\n",
            "\n",
            "    accuracy                           1.00         8\n",
            "   macro avg       1.00      1.00      1.00         8\n",
            "weighted avg       1.00      1.00      1.00         8\n",
            "\n"
          ]
        }
      ],
      "source": [
        "from sklearn.metrics import classification_report\n",
        "print(classification_report(y_test, y_predict))"
      ]
    },
    {
      "cell_type": "code",
      "execution_count": null,
      "id": "0ac818ef",
      "metadata": {
        "execution": {
          "iopub.execute_input": "2022-05-12T13:03:24.662819Z",
          "iopub.status.busy": "2022-05-12T13:03:24.662383Z",
          "iopub.status.idle": "2022-05-12T13:03:24.930902Z",
          "shell.execute_reply": "2022-05-12T13:03:24.930216Z"
        },
        "papermill": {
          "duration": 0.336288,
          "end_time": "2022-05-12T13:03:24.933288",
          "exception": false,
          "start_time": "2022-05-12T13:03:24.597000",
          "status": "completed"
        },
        "tags": [],
        "colab": {
          "base_uri": "https://localhost:8080/",
          "height": 489
        },
        "id": "0ac818ef",
        "outputId": "e14400ed-8260-4d8a-d652-68a89c2e39fc"
      },
      "outputs": [
        {
          "output_type": "stream",
          "name": "stdout",
          "text": [
            "Score :  1.0\n"
          ]
        },
        {
          "output_type": "display_data",
          "data": {
            "text/plain": [
              "<Figure size 640x480 with 2 Axes>"
            ],
            "image/png": "[encoded data removed]"
          },
          "metadata": {}
        }
      ],
      "source": [
        "# Plotting of Confusion Matrics of Logistic Regression\n",
        "from sklearn.metrics import confusion_matrix\n",
        "pred_list = [log_reg]\n",
        "\n",
        "for i in pred_list:\n",
        "    print(\"Score : \",i.score(X_test,y_test))\n",
        "    y_pred = i.predict(X_test)\n",
        "    sns.heatmap(confusion_matrix(y_test,y_pred),annot = True)\n",
        "    plt.xlabel(\"Y_pred\")\n",
        "    plt.ylabel(\"Y_test\")\n",
        "    plt.title(i)\n",
        "    plt.show()"
      ]
    },
    {
      "cell_type": "markdown",
      "id": "ee2ba347",
      "metadata": {
        "papermill": {
          "duration": 0.063644,
          "end_time": "2022-05-12T13:03:25.061138",
          "exception": false,
          "start_time": "2022-05-12T13:03:24.997494",
          "status": "completed"
        },
        "tags": [],
        "id": "ee2ba347"
      },
      "source": [
        "# KNearest Neighbors"
      ]
    },
    {
      "cell_type": "code",
      "execution_count": null,
      "id": "5b6f7dd8",
      "metadata": {
        "execution": {
          "iopub.execute_input": "2022-05-12T13:03:25.191502Z",
          "iopub.status.busy": "2022-05-12T13:03:25.190864Z",
          "iopub.status.idle": "2022-05-12T13:03:25.371366Z",
          "shell.execute_reply": "2022-05-12T13:03:25.370622Z"
        },
        "papermill": {
          "duration": 0.247557,
          "end_time": "2022-05-12T13:03:25.373483",
          "exception": false,
          "start_time": "2022-05-12T13:03:25.125926",
          "status": "completed"
        },
        "tags": [],
        "colab": {
          "base_uri": "https://localhost:8080/",
          "height": 74
        },
        "id": "5b6f7dd8",
        "outputId": "14ccb0e2-0cfb-47d3-edc2-f86550aba8fd"
      },
      "outputs": [
        {
          "output_type": "execute_result",
          "data": {
            "text/plain": [
              "KNeighborsClassifier(n_neighbors=3)"
            ],
            "text/html": [
              "<style>#sk-container-id-2 {color: black;background-color: white;}#sk-container-id-2 pre{padding: 0;}#sk-container-id-2 div.sk-toggleable {background-color: white;}#sk-container-id-2 label.sk-toggleable__label {cursor: pointer;display: block;width: 100%;margin-bottom: 0;padding: 0.3em;box-sizing: border-box;text-align: center;}#sk-container-id-2 label.sk-toggleable__label-arrow:before {content: \"▸\";float: left;margin-right: 0.25em;color: #696969;}#sk-container-id-2 label.sk-toggleable__label-arrow:hover:before {color: black;}#sk-container-id-2 div.sk-estimator:hover label.sk-toggleable__label-arrow:before {color: black;}#sk-container-id-2 div.sk-toggleable__content {max-height: 0;max-width: 0;overflow: hidden;text-align: left;background-color: #f0f8ff;}#sk-container-id-2 div.sk-toggleable__content pre {margin: 0.2em;color: black;border-radius: 0.25em;background-color: #f0f8ff;}#sk-container-id-2 input.sk-toggleable__control:checked~div.sk-toggleable__content {max-height: 200px;max-width: 100%;overflow: auto;}#sk-container-id-2 input.sk-toggleable__control:checked~label.sk-toggleable__label-arrow:before {content: \"▾\";}#sk-container-id-2 div.sk-estimator input.sk-toggleable__control:checked~label.sk-toggleable__label {background-color: #d4ebff;}#sk-container-id-2 div.sk-label input.sk-toggleable__control:checked~label.sk-toggleable__label {background-color: #d4ebff;}#sk-container-id-2 input.sk-hidden--visually {border: 0;clip: rect(1px 1px 1px 1px);clip: rect(1px, 1px, 1px, 1px);height: 1px;margin: -1px;overflow: hidden;padding: 0;position: absolute;width: 1px;}#sk-container-id-2 div.sk-estimator {font-family: monospace;background-color: #f0f8ff;border: 1px dotted black;border-radius: 0.25em;box-sizing: border-box;margin-bottom: 0.5em;}#sk-container-id-2 div.sk-estimator:hover {background-color: #d4ebff;}#sk-container-id-2 div.sk-parallel-item::after {content: \"\";width: 100%;border-bottom: 1px solid gray;flex-grow: 1;}#sk-container-id-2 div.sk-label:hover label.sk-toggleable__label {background-color: #d4ebff;}#sk-container-id-2 div.sk-serial::before {content: \"\";position: absolute;border-left: 1px solid gray;box-sizing: border-box;top: 0;bottom: 0;left: 50%;z-index: 0;}#sk-container-id-2 div.sk-serial {display: flex;flex-direction: column;align-items: center;background-color: white;padding-right: 0.2em;padding-left: 0.2em;position: relative;}#sk-container-id-2 div.sk-item {position: relative;z-index: 1;}#sk-container-id-2 div.sk-parallel {display: flex;align-items: stretch;justify-content: center;background-color: white;position: relative;}#sk-container-id-2 div.sk-item::before, #sk-container-id-2 div.sk-parallel-item::before {content: \"\";position: absolute;border-left: 1px solid gray;box-sizing: border-box;top: 0;bottom: 0;left: 50%;z-index: -1;}#sk-container-id-2 div.sk-parallel-item {display: flex;flex-direction: column;z-index: 1;position: relative;background-color: white;}#sk-container-id-2 div.sk-parallel-item:first-child::after {align-self: flex-end;width: 50%;}#sk-container-id-2 div.sk-parallel-item:last-child::after {align-self: flex-start;width: 50%;}#sk-container-id-2 div.sk-parallel-item:only-child::after {width: 0;}#sk-container-id-2 div.sk-dashed-wrapped {border: 1px dashed gray;margin: 0 0.4em 0.5em 0.4em;box-sizing: border-box;padding-bottom: 0.4em;background-color: white;}#sk-container-id-2 div.sk-label label {font-family: monospace;font-weight: bold;display: inline-block;line-height: 1.2em;}#sk-container-id-2 div.sk-label-container {text-align: center;}#sk-container-id-2 div.sk-container {/* jupyter's `normalize.less` sets `[hidden] { display: none; }` but bootstrap.min.css set `[hidden] { display: none !important; }` so we also need the `!important` here to be able to override the default hidden behavior on the sphinx rendered scikit-learn.org. See: https://github.com/scikit-learn/scikit-learn/issues/21755 */display: inline-block !important;position: relative;}#sk-container-id-2 div.sk-text-repr-fallback {display: none;}</style><div id=\"sk-container-id-2\" class=\"sk-top-container\"><div class=\"sk-text-repr-fallback\"><pre>KNeighborsClassifier(n_neighbors=3)</pre><b>In a Jupyter environment, please rerun this cell to show the HTML representation or trust the notebook. <br />On GitHub, the HTML representation is unable to render, please try loading this page with nbviewer.org.</b></div><div class=\"sk-container\" hidden><div class=\"sk-item\"><div class=\"sk-estimator sk-toggleable\"><input class=\"sk-toggleable__control sk-hidden--visually\" id=\"sk-estimator-id-2\" type=\"checkbox\" checked><label for=\"sk-estimator-id-2\" class=\"sk-toggleable__label sk-toggleable__label-arrow\">KNeighborsClassifier</label><div class=\"sk-toggleable__content\"><pre>KNeighborsClassifier(n_neighbors=3)</pre></div></div></div></div></div>"
            ]
          },
          "metadata": {},
          "execution_count": 27
        }
      ],
      "source": [
        "# Build the model\n",
        "from sklearn.neighbors import KNeighborsClassifier\n",
        "# Fit KNN Classifier\n",
        "KNN = KNeighborsClassifier(n_neighbors=3, metric='minkowski', p=2)\n",
        "KNN.fit(X_train,y_train)"
      ]
    },
    {
      "cell_type": "code",
      "execution_count": null,
      "id": "f61a9bc5",
      "metadata": {
        "execution": {
          "iopub.execute_input": "2022-05-12T13:03:25.503082Z",
          "iopub.status.busy": "2022-05-12T13:03:25.502278Z",
          "iopub.status.idle": "2022-05-12T13:03:25.521685Z",
          "shell.execute_reply": "2022-05-12T13:03:25.520712Z"
        },
        "papermill": {
          "duration": 0.0865,
          "end_time": "2022-05-12T13:03:25.524531",
          "exception": false,
          "start_time": "2022-05-12T13:03:25.438031",
          "status": "completed"
        },
        "tags": [],
        "colab": {
          "base_uri": "https://localhost:8080/"
        },
        "id": "f61a9bc5",
        "outputId": "98d18d03-caee-4cdb-ce6f-068e0ad81ba3"
      },
      "outputs": [
        {
          "output_type": "execute_result",
          "data": {
            "text/plain": [
              "array(['Normal', 'tumor', 'Normal', 'Normal', 'tumor', 'Normal', 'Normal',\n",
              "       'tumor'], dtype=object)"
            ]
          },
          "metadata": {},
          "execution_count": 28
        }
      ],
      "source": [
        "# Prediction\n",
        "y_predict = KNN.predict(X_test)\n",
        "y_predict"
      ]
    },
    {
      "cell_type": "code",
      "execution_count": null,
      "id": "bad82b47",
      "metadata": {
        "execution": {
          "iopub.execute_input": "2022-05-12T13:03:25.704012Z",
          "iopub.status.busy": "2022-05-12T13:03:25.703726Z",
          "iopub.status.idle": "2022-05-12T13:03:25.715978Z",
          "shell.execute_reply": "2022-05-12T13:03:25.714431Z"
        },
        "papermill": {
          "duration": 0.080051,
          "end_time": "2022-05-12T13:03:25.719397",
          "exception": false,
          "start_time": "2022-05-12T13:03:25.639346",
          "status": "completed"
        },
        "tags": [],
        "colab": {
          "base_uri": "https://localhost:8080/"
        },
        "id": "bad82b47",
        "outputId": "9db46eaf-9f8e-48b9-85c9-77ce22eefd2d"
      },
      "outputs": [
        {
          "output_type": "stream",
          "name": "stdout",
          "text": [
            "1.0\n"
          ]
        }
      ],
      "source": [
        "# Accuracy Score\n",
        "score = KNN.score(X_test, y_test)\n",
        "print(score)"
      ]
    },
    {
      "cell_type": "code",
      "execution_count": null,
      "id": "e22b32a7",
      "metadata": {
        "execution": {
          "iopub.execute_input": "2022-05-12T13:03:25.904488Z",
          "iopub.status.busy": "2022-05-12T13:03:25.904219Z",
          "iopub.status.idle": "2022-05-12T13:03:25.912099Z",
          "shell.execute_reply": "2022-05-12T13:03:25.911204Z"
        },
        "papermill": {
          "duration": 0.077951,
          "end_time": "2022-05-12T13:03:25.914034",
          "exception": false,
          "start_time": "2022-05-12T13:03:25.836083",
          "status": "completed"
        },
        "tags": [],
        "colab": {
          "base_uri": "https://localhost:8080/"
        },
        "id": "e22b32a7",
        "outputId": "08bceca5-90e6-44ee-8630-496debed06de"
      },
      "outputs": [
        {
          "output_type": "execute_result",
          "data": {
            "text/plain": [
              "array([[5, 0],\n",
              "       [0, 3]])"
            ]
          },
          "metadata": {},
          "execution_count": 30
        }
      ],
      "source": [
        "# Confusion Metrix\n",
        "from sklearn import metrics\n",
        "cnf_matrix = metrics.confusion_matrix(y_test, y_predict)\n",
        "cnf_matrix"
      ]
    },
    {
      "cell_type": "code",
      "execution_count": null,
      "id": "8eb3a6f1",
      "metadata": {
        "execution": {
          "iopub.execute_input": "2022-05-12T13:03:26.048700Z",
          "iopub.status.busy": "2022-05-12T13:03:26.047994Z",
          "iopub.status.idle": "2022-05-12T13:03:26.056335Z",
          "shell.execute_reply": "2022-05-12T13:03:26.055659Z"
        },
        "papermill": {
          "duration": 0.076872,
          "end_time": "2022-05-12T13:03:26.058324",
          "exception": false,
          "start_time": "2022-05-12T13:03:25.981452",
          "status": "completed"
        },
        "tags": [],
        "colab": {
          "base_uri": "https://localhost:8080/"
        },
        "id": "8eb3a6f1",
        "outputId": "45dcab89-6e4e-435a-e955-067e2e9daeb5"
      },
      "outputs": [
        {
          "output_type": "stream",
          "name": "stdout",
          "text": [
            "              precision    recall  f1-score   support\n",
            "\n",
            "      Normal       1.00      1.00      1.00         5\n",
            "       tumor       1.00      1.00      1.00         3\n",
            "\n",
            "    accuracy                           1.00         8\n",
            "   macro avg       1.00      1.00      1.00         8\n",
            "weighted avg       1.00      1.00      1.00         8\n",
            "\n"
          ]
        }
      ],
      "source": [
        "# Classification Report\n",
        "from sklearn.metrics import classification_report\n",
        "print(classification_report(y_test, y_predict))"
      ]
    },
    {
      "cell_type": "code",
      "execution_count": null,
      "id": "05373fd9",
      "metadata": {
        "execution": {
          "iopub.execute_input": "2022-05-12T13:03:26.189745Z",
          "iopub.status.busy": "2022-05-12T13:03:26.188911Z",
          "iopub.status.idle": "2022-05-12T13:03:26.432948Z",
          "shell.execute_reply": "2022-05-12T13:03:26.432258Z"
        },
        "papermill": {
          "duration": 0.312114,
          "end_time": "2022-05-12T13:03:26.434923",
          "exception": false,
          "start_time": "2022-05-12T13:03:26.122809",
          "status": "completed"
        },
        "tags": [],
        "colab": {
          "base_uri": "https://localhost:8080/",
          "height": 489
        },
        "id": "05373fd9",
        "outputId": "63c1afbe-98c4-4693-b826-74bf507d22a4"
      },
      "outputs": [
        {
          "output_type": "stream",
          "name": "stdout",
          "text": [
            "Score :  1.0\n"
          ]
        },
        {
          "output_type": "display_data",
          "data": {
            "text/plain": [
              "<Figure size 640x480 with 2 Axes>"
            ],
            "image/png": "[encoded data removed]"
          },
          "metadata": {}
        }
      ],
      "source": [
        "# Plotting of Confusion Matrix of KNN\n",
        "from sklearn.metrics import confusion_matrix\n",
        "pred_list = [KNN]\n",
        "\n",
        "for i in pred_list:\n",
        "    print(\"Score : \",i.score(X_test,y_test))\n",
        "    y_pred = i.predict(X_test)\n",
        "    sns.heatmap(confusion_matrix(y_test,y_pred),annot = True)\n",
        "    plt.xlabel(\"Y_pred\")\n",
        "    plt.ylabel(\"Y_test\")\n",
        "    plt.title(i)\n",
        "    plt.show()"
      ]
    },
    {
      "cell_type": "markdown",
      "id": "bd1c63d4",
      "metadata": {
        "papermill": {
          "duration": 0.065037,
          "end_time": "2022-05-12T13:03:26.565537",
          "exception": false,
          "start_time": "2022-05-12T13:03:26.500500",
          "status": "completed"
        },
        "tags": [],
        "id": "bd1c63d4"
      },
      "source": [
        "# RandomForestClassifier"
      ]
    },
    {
      "cell_type": "code",
      "execution_count": null,
      "id": "e519d2ae",
      "metadata": {
        "execution": {
          "iopub.execute_input": "2022-05-12T13:03:26.697785Z",
          "iopub.status.busy": "2022-05-12T13:03:26.697264Z",
          "iopub.status.idle": "2022-05-12T13:03:26.822298Z",
          "shell.execute_reply": "2022-05-12T13:03:26.821362Z"
        },
        "papermill": {
          "duration": 0.193626,
          "end_time": "2022-05-12T13:03:26.824498",
          "exception": false,
          "start_time": "2022-05-12T13:03:26.630872",
          "status": "completed"
        },
        "tags": [],
        "colab": {
          "base_uri": "https://localhost:8080/",
          "height": 74
        },
        "id": "e519d2ae",
        "outputId": "f43cde99-d82b-4e2e-ea83-ee7acea82607"
      },
      "outputs": [
        {
          "output_type": "execute_result",
          "data": {
            "text/plain": [
              "RandomForestClassifier(n_estimators=20, random_state=0)"
            ],
            "text/html": [
              "<style>#sk-container-id-3 {color: black;background-color: white;}#sk-container-id-3 pre{padding: 0;}#sk-container-id-3 div.sk-toggleable {background-color: white;}#sk-container-id-3 label.sk-toggleable__label {cursor: pointer;display: block;width: 100%;margin-bottom: 0;padding: 0.3em;box-sizing: border-box;text-align: center;}#sk-container-id-3 label.sk-toggleable__label-arrow:before {content: \"▸\";float: left;margin-right: 0.25em;color: #696969;}#sk-container-id-3 label.sk-toggleable__label-arrow:hover:before {color: black;}#sk-container-id-3 div.sk-estimator:hover label.sk-toggleable__label-arrow:before {color: black;}#sk-container-id-3 div.sk-toggleable__content {max-height: 0;max-width: 0;overflow: hidden;text-align: left;background-color: #f0f8ff;}#sk-container-id-3 div.sk-toggleable__content pre {margin: 0.2em;color: black;border-radius: 0.25em;background-color: #f0f8ff;}#sk-container-id-3 input.sk-toggleable__control:checked~div.sk-toggleable__content {max-height: 200px;max-width: 100%;overflow: auto;}#sk-container-id-3 input.sk-toggleable__control:checked~label.sk-toggleable__label-arrow:before {content: \"▾\";}#sk-container-id-3 div.sk-estimator input.sk-toggleable__control:checked~label.sk-toggleable__label {background-color: #d4ebff;}#sk-container-id-3 div.sk-label input.sk-toggleable__control:checked~label.sk-toggleable__label {background-color: #d4ebff;}#sk-container-id-3 input.sk-hidden--visually {border: 0;clip: rect(1px 1px 1px 1px);clip: rect(1px, 1px, 1px, 1px);height: 1px;margin: -1px;overflow: hidden;padding: 0;position: absolute;width: 1px;}#sk-container-id-3 div.sk-estimator {font-family: monospace;background-color: #f0f8ff;border: 1px dotted black;border-radius: 0.25em;box-sizing: border-box;margin-bottom: 0.5em;}#sk-container-id-3 div.sk-estimator:hover {background-color: #d4ebff;}#sk-container-id-3 div.sk-parallel-item::after {content: \"\";width: 100%;border-bottom: 1px solid gray;flex-grow: 1;}#sk-container-id-3 div.sk-label:hover label.sk-toggleable__label {background-color: #d4ebff;}#sk-container-id-3 div.sk-serial::before {content: \"\";position: absolute;border-left: 1px solid gray;box-sizing: border-box;top: 0;bottom: 0;left: 50%;z-index: 0;}#sk-container-id-3 div.sk-serial {display: flex;flex-direction: column;align-items: center;background-color: white;padding-right: 0.2em;padding-left: 0.2em;position: relative;}#sk-container-id-3 div.sk-item {position: relative;z-index: 1;}#sk-container-id-3 div.sk-parallel {display: flex;align-items: stretch;justify-content: center;background-color: white;position: relative;}#sk-container-id-3 div.sk-item::before, #sk-container-id-3 div.sk-parallel-item::before {content: \"\";position: absolute;border-left: 1px solid gray;box-sizing: border-box;top: 0;bottom: 0;left: 50%;z-index: -1;}#sk-container-id-3 div.sk-parallel-item {display: flex;flex-direction: column;z-index: 1;position: relative;background-color: white;}#sk-container-id-3 div.sk-parallel-item:first-child::after {align-self: flex-end;width: 50%;}#sk-container-id-3 div.sk-parallel-item:last-child::after {align-self: flex-start;width: 50%;}#sk-container-id-3 div.sk-parallel-item:only-child::after {width: 0;}#sk-container-id-3 div.sk-dashed-wrapped {border: 1px dashed gray;margin: 0 0.4em 0.5em 0.4em;box-sizing: border-box;padding-bottom: 0.4em;background-color: white;}#sk-container-id-3 div.sk-label label {font-family: monospace;font-weight: bold;display: inline-block;line-height: 1.2em;}#sk-container-id-3 div.sk-label-container {text-align: center;}#sk-container-id-3 div.sk-container {/* jupyter's `normalize.less` sets `[hidden] { display: none; }` but bootstrap.min.css set `[hidden] { display: none !important; }` so we also need the `!important` here to be able to override the default hidden behavior on the sphinx rendered scikit-learn.org. See: https://github.com/scikit-learn/scikit-learn/issues/21755 */display: inline-block !important;position: relative;}#sk-container-id-3 div.sk-text-repr-fallback {display: none;}</style><div id=\"sk-container-id-3\" class=\"sk-top-container\"><div class=\"sk-text-repr-fallback\"><pre>RandomForestClassifier(n_estimators=20, random_state=0)</pre><b>In a Jupyter environment, please rerun this cell to show the HTML representation or trust the notebook. <br />On GitHub, the HTML representation is unable to render, please try loading this page with nbviewer.org.</b></div><div class=\"sk-container\" hidden><div class=\"sk-item\"><div class=\"sk-estimator sk-toggleable\"><input class=\"sk-toggleable__control sk-hidden--visually\" id=\"sk-estimator-id-3\" type=\"checkbox\" checked><label for=\"sk-estimator-id-3\" class=\"sk-toggleable__label sk-toggleable__label-arrow\">RandomForestClassifier</label><div class=\"sk-toggleable__content\"><pre>RandomForestClassifier(n_estimators=20, random_state=0)</pre></div></div></div></div></div>"
            ]
          },
          "metadata": {},
          "execution_count": 33
        }
      ],
      "source": [
        "# Build Model\n",
        "from sklearn.ensemble import RandomForestClassifier\n",
        "# Fit RandomForest Clsassifier\n",
        "RFC = RandomForestClassifier(n_estimators=20, random_state=0)\n",
        "RFC.fit(X_train,y_train)"
      ]
    },
    {
      "cell_type": "code",
      "execution_count": null,
      "id": "f25d3ef0",
      "metadata": {
        "execution": {
          "iopub.execute_input": "2022-05-12T13:03:26.958691Z",
          "iopub.status.busy": "2022-05-12T13:03:26.958391Z",
          "iopub.status.idle": "2022-05-12T13:03:26.967025Z",
          "shell.execute_reply": "2022-05-12T13:03:26.966382Z"
        },
        "papermill": {
          "duration": 0.077361,
          "end_time": "2022-05-12T13:03:26.968879",
          "exception": false,
          "start_time": "2022-05-12T13:03:26.891518",
          "status": "completed"
        },
        "tags": [],
        "colab": {
          "base_uri": "https://localhost:8080/"
        },
        "id": "f25d3ef0",
        "outputId": "e85e1c38-36e2-416e-a057-aad0355372a0"
      },
      "outputs": [
        {
          "output_type": "execute_result",
          "data": {
            "text/plain": [
              "array(['Normal', 'tumor', 'Normal', 'Normal', 'tumor', 'Normal', 'Normal',\n",
              "       'tumor'], dtype=object)"
            ]
          },
          "metadata": {},
          "execution_count": 34
        }
      ],
      "source": [
        "# Prediction\n",
        "y_predict = RFC.predict(X_test)\n",
        "y_predict"
      ]
    },
    {
      "cell_type": "code",
      "execution_count": null,
      "id": "c6a8485a",
      "metadata": {
        "execution": {
          "iopub.execute_input": "2022-05-12T13:03:27.103820Z",
          "iopub.status.busy": "2022-05-12T13:03:27.103306Z",
          "iopub.status.idle": "2022-05-12T13:03:27.110789Z",
          "shell.execute_reply": "2022-05-12T13:03:27.110213Z"
        },
        "papermill": {
          "duration": 0.078259,
          "end_time": "2022-05-12T13:03:27.113410",
          "exception": false,
          "start_time": "2022-05-12T13:03:27.035151",
          "status": "completed"
        },
        "tags": [],
        "colab": {
          "base_uri": "https://localhost:8080/"
        },
        "id": "c6a8485a",
        "outputId": "6a711af8-4023-4770-b655-9499109682b8"
      },
      "outputs": [
        {
          "output_type": "stream",
          "name": "stdout",
          "text": [
            "1.0\n"
          ]
        }
      ],
      "source": [
        "# Accuracy Score\n",
        "score = RFC.score(X_test, y_test)\n",
        "print(score)"
      ]
    },
    {
      "cell_type": "code",
      "execution_count": null,
      "id": "633d5de0",
      "metadata": {
        "execution": {
          "iopub.execute_input": "2022-05-12T13:03:27.249466Z",
          "iopub.status.busy": "2022-05-12T13:03:27.249038Z",
          "iopub.status.idle": "2022-05-12T13:03:27.465139Z",
          "shell.execute_reply": "2022-05-12T13:03:27.464594Z"
        },
        "papermill": {
          "duration": 0.285684,
          "end_time": "2022-05-12T13:03:27.466957",
          "exception": false,
          "start_time": "2022-05-12T13:03:27.181273",
          "status": "completed"
        },
        "tags": [],
        "colab": {
          "base_uri": "https://localhost:8080/",
          "height": 489
        },
        "id": "633d5de0",
        "outputId": "8d4495fc-968b-4c03-d1ef-3d4ccfe81270"
      },
      "outputs": [
        {
          "output_type": "stream",
          "name": "stdout",
          "text": [
            "Score :  1.0\n"
          ]
        },
        {
          "output_type": "display_data",
          "data": {
            "text/plain": [
              "<Figure size 640x480 with 2 Axes>"
            ],
            "image/png": "[encoded data removed]"
          },
          "metadata": {}
        }
      ],
      "source": [
        "# Plotting of confusion matrix of Random Forest Classifier\n",
        "from sklearn.metrics import confusion_matrix\n",
        "pred_list = [RFC]\n",
        "\n",
        "for i in pred_list:\n",
        "    print(\"Score : \",i.score(X_test,y_test))\n",
        "    y_pred = i.predict(X_test)\n",
        "    sns.heatmap(confusion_matrix(y_test,y_pred),annot = True)\n",
        "    plt.xlabel(\"Y_pred\")\n",
        "    plt.ylabel(\"Y_test\")\n",
        "    plt.title(i)\n",
        "    plt.show()"
      ]
    },
    {
      "cell_type": "markdown",
      "id": "66e7eefd",
      "metadata": {
        "papermill": {
          "duration": 0.067318,
          "end_time": "2022-05-12T13:03:27.602074",
          "exception": false,
          "start_time": "2022-05-12T13:03:27.534756",
          "status": "completed"
        },
        "tags": [],
        "id": "66e7eefd"
      },
      "source": [
        "# DecisionTreeClassifier"
      ]
    },
    {
      "cell_type": "code",
      "execution_count": null,
      "id": "e87b1eba",
      "metadata": {
        "execution": {
          "iopub.execute_input": "2022-05-12T13:03:27.738242Z",
          "iopub.status.busy": "2022-05-12T13:03:27.737830Z",
          "iopub.status.idle": "2022-05-12T13:03:27.758859Z",
          "shell.execute_reply": "2022-05-12T13:03:27.758204Z"
        },
        "papermill": {
          "duration": 0.091536,
          "end_time": "2022-05-12T13:03:27.760758",
          "exception": false,
          "start_time": "2022-05-12T13:03:27.669222",
          "status": "completed"
        },
        "tags": [],
        "colab": {
          "base_uri": "https://localhost:8080/",
          "height": 74
        },
        "id": "e87b1eba",
        "outputId": "938c6ca4-5ad5-4b31-de34-acc2ce834e59"
      },
      "outputs": [
        {
          "output_type": "execute_result",
          "data": {
            "text/plain": [
              "DecisionTreeClassifier()"
            ],
            "text/html": [
              "<style>#sk-container-id-4 {color: black;background-color: white;}#sk-container-id-4 pre{padding: 0;}#sk-container-id-4 div.sk-toggleable {background-color: white;}#sk-container-id-4 label.sk-toggleable__label {cursor: pointer;display: block;width: 100%;margin-bottom: 0;padding: 0.3em;box-sizing: border-box;text-align: center;}#sk-container-id-4 label.sk-toggleable__label-arrow:before {content: \"▸\";float: left;margin-right: 0.25em;color: #696969;}#sk-container-id-4 label.sk-toggleable__label-arrow:hover:before {color: black;}#sk-container-id-4 div.sk-estimator:hover label.sk-toggleable__label-arrow:before {color: black;}#sk-container-id-4 div.sk-toggleable__content {max-height: 0;max-width: 0;overflow: hidden;text-align: left;background-color: #f0f8ff;}#sk-container-id-4 div.sk-toggleable__content pre {margin: 0.2em;color: black;border-radius: 0.25em;background-color: #f0f8ff;}#sk-container-id-4 input.sk-toggleable__control:checked~div.sk-toggleable__content {max-height: 200px;max-width: 100%;overflow: auto;}#sk-container-id-4 input.sk-toggleable__control:checked~label.sk-toggleable__label-arrow:before {content: \"▾\";}#sk-container-id-4 div.sk-estimator input.sk-toggleable__control:checked~label.sk-toggleable__label {background-color: #d4ebff;}#sk-container-id-4 div.sk-label input.sk-toggleable__control:checked~label.sk-toggleable__label {background-color: #d4ebff;}#sk-container-id-4 input.sk-hidden--visually {border: 0;clip: rect(1px 1px 1px 1px);clip: rect(1px, 1px, 1px, 1px);height: 1px;margin: -1px;overflow: hidden;padding: 0;position: absolute;width: 1px;}#sk-container-id-4 div.sk-estimator {font-family: monospace;background-color: #f0f8ff;border: 1px dotted black;border-radius: 0.25em;box-sizing: border-box;margin-bottom: 0.5em;}#sk-container-id-4 div.sk-estimator:hover {background-color: #d4ebff;}#sk-container-id-4 div.sk-parallel-item::after {content: \"\";width: 100%;border-bottom: 1px solid gray;flex-grow: 1;}#sk-container-id-4 div.sk-label:hover label.sk-toggleable__label {background-color: #d4ebff;}#sk-container-id-4 div.sk-serial::before {content: \"\";position: absolute;border-left: 1px solid gray;box-sizing: border-box;top: 0;bottom: 0;left: 50%;z-index: 0;}#sk-container-id-4 div.sk-serial {display: flex;flex-direction: column;align-items: center;background-color: white;padding-right: 0.2em;padding-left: 0.2em;position: relative;}#sk-container-id-4 div.sk-item {position: relative;z-index: 1;}#sk-container-id-4 div.sk-parallel {display: flex;align-items: stretch;justify-content: center;background-color: white;position: relative;}#sk-container-id-4 div.sk-item::before, #sk-container-id-4 div.sk-parallel-item::before {content: \"\";position: absolute;border-left: 1px solid gray;box-sizing: border-box;top: 0;bottom: 0;left: 50%;z-index: -1;}#sk-container-id-4 div.sk-parallel-item {display: flex;flex-direction: column;z-index: 1;position: relative;background-color: white;}#sk-container-id-4 div.sk-parallel-item:first-child::after {align-self: flex-end;width: 50%;}#sk-container-id-4 div.sk-parallel-item:last-child::after {align-self: flex-start;width: 50%;}#sk-container-id-4 div.sk-parallel-item:only-child::after {width: 0;}#sk-container-id-4 div.sk-dashed-wrapped {border: 1px dashed gray;margin: 0 0.4em 0.5em 0.4em;box-sizing: border-box;padding-bottom: 0.4em;background-color: white;}#sk-container-id-4 div.sk-label label {font-family: monospace;font-weight: bold;display: inline-block;line-height: 1.2em;}#sk-container-id-4 div.sk-label-container {text-align: center;}#sk-container-id-4 div.sk-container {/* jupyter's `normalize.less` sets `[hidden] { display: none; }` but bootstrap.min.css set `[hidden] { display: none !important; }` so we also need the `!important` here to be able to override the default hidden behavior on the sphinx rendered scikit-learn.org. See: https://github.com/scikit-learn/scikit-learn/issues/21755 */display: inline-block !important;position: relative;}#sk-container-id-4 div.sk-text-repr-fallback {display: none;}</style><div id=\"sk-container-id-4\" class=\"sk-top-container\"><div class=\"sk-text-repr-fallback\"><pre>DecisionTreeClassifier()</pre><b>In a Jupyter environment, please rerun this cell to show the HTML representation or trust the notebook. <br />On GitHub, the HTML representation is unable to render, please try loading this page with nbviewer.org.</b></div><div class=\"sk-container\" hidden><div class=\"sk-item\"><div class=\"sk-estimator sk-toggleable\"><input class=\"sk-toggleable__control sk-hidden--visually\" id=\"sk-estimator-id-4\" type=\"checkbox\" checked><label for=\"sk-estimator-id-4\" class=\"sk-toggleable__label sk-toggleable__label-arrow\">DecisionTreeClassifier</label><div class=\"sk-toggleable__content\"><pre>DecisionTreeClassifier()</pre></div></div></div></div></div>"
            ]
          },
          "metadata": {},
          "execution_count": 37
        }
      ],
      "source": [
        "# Build the model\n",
        "from sklearn.tree import DecisionTreeClassifier\n",
        "# Fit DecisionTree Classifier\n",
        "DTC = DecisionTreeClassifier()\n",
        "DTC.fit(X_train,y_train)"
      ]
    },
    {
      "cell_type": "code",
      "execution_count": null,
      "id": "cbbcc545",
      "metadata": {
        "execution": {
          "iopub.execute_input": "2022-05-12T13:03:27.898903Z",
          "iopub.status.busy": "2022-05-12T13:03:27.898495Z",
          "iopub.status.idle": "2022-05-12T13:03:27.903440Z",
          "shell.execute_reply": "2022-05-12T13:03:27.902932Z"
        },
        "papermill": {
          "duration": 0.07562,
          "end_time": "2022-05-12T13:03:27.905158",
          "exception": false,
          "start_time": "2022-05-12T13:03:27.829538",
          "status": "completed"
        },
        "tags": [],
        "colab": {
          "base_uri": "https://localhost:8080/"
        },
        "id": "cbbcc545",
        "outputId": "c3b900b4-019b-4348-8755-06a87615d72e"
      },
      "outputs": [
        {
          "output_type": "execute_result",
          "data": {
            "text/plain": [
              "array(['Normal', 'tumor', 'Normal', 'Normal', 'tumor', 'Normal', 'Normal',\n",
              "       'tumor'], dtype=object)"
            ]
          },
          "metadata": {},
          "execution_count": 38
        }
      ],
      "source": [
        "#prediction\n",
        "y_predict = DTC.predict(X_test)\n",
        "y_predict"
      ]
    },
    {
      "cell_type": "code",
      "execution_count": null,
      "id": "54125925",
      "metadata": {
        "execution": {
          "iopub.execute_input": "2022-05-12T13:03:28.044573Z",
          "iopub.status.busy": "2022-05-12T13:03:28.044180Z",
          "iopub.status.idle": "2022-05-12T13:03:28.048692Z",
          "shell.execute_reply": "2022-05-12T13:03:28.048159Z"
        },
        "papermill": {
          "duration": 0.076291,
          "end_time": "2022-05-12T13:03:28.051008",
          "exception": false,
          "start_time": "2022-05-12T13:03:27.974717",
          "status": "completed"
        },
        "tags": [],
        "colab": {
          "base_uri": "https://localhost:8080/"
        },
        "id": "54125925",
        "outputId": "1a1ce31c-aeb7-455d-a7e3-f45d7c7445a9"
      },
      "outputs": [
        {
          "output_type": "stream",
          "name": "stdout",
          "text": [
            "1.0\n"
          ]
        }
      ],
      "source": [
        "# Accuracy Score\n",
        "score = DTC.score(X_test, y_test)\n",
        "print(score)"
      ]
    },
    {
      "cell_type": "code",
      "execution_count": null,
      "id": "ec3cdb9a",
      "metadata": {
        "execution": {
          "iopub.execute_input": "2022-05-12T13:03:28.198827Z",
          "iopub.status.busy": "2022-05-12T13:03:28.198390Z",
          "iopub.status.idle": "2022-05-12T13:03:28.408867Z",
          "shell.execute_reply": "2022-05-12T13:03:28.408253Z"
        },
        "papermill": {
          "duration": 0.289506,
          "end_time": "2022-05-12T13:03:28.410841",
          "exception": false,
          "start_time": "2022-05-12T13:03:28.121335",
          "status": "completed"
        },
        "tags": [],
        "colab": {
          "base_uri": "https://localhost:8080/",
          "height": 489
        },
        "id": "ec3cdb9a",
        "outputId": "ff3d6d3e-cbff-4a40-a702-300ad0e57194"
      },
      "outputs": [
        {
          "output_type": "stream",
          "name": "stdout",
          "text": [
            "Score :  1.0\n"
          ]
        },
        {
          "output_type": "display_data",
          "data": {
            "text/plain": [
              "<Figure size 640x480 with 2 Axes>"
            ],
            "image/png": "[encoded data removed]"
          },
          "metadata": {}
        }
      ],
      "source": [
        "# Plotting of Confusion Matrix of Decision Tree Classifier\n",
        "from matplotlib import pyplot as plt\n",
        "import seaborn as sns\n",
        "from sklearn.metrics import confusion_matrix\n",
        "pred_list = [DTC]\n",
        "\n",
        "for i in pred_list:\n",
        "    print(\"Score : \",i.score(X_test,y_test))\n",
        "    y_pred = i.predict(X_test)\n",
        "    sns.heatmap(confusion_matrix(y_test,y_pred),annot = True)\n",
        "    plt.xlabel(\"Y_pred\")\n",
        "    plt.ylabel(\"Y_test\")\n",
        "    plt.title(i)\n",
        "    plt.show()"
      ]
    },
    {
      "cell_type": "markdown",
      "id": "40543e67",
      "metadata": {
        "papermill": {
          "duration": 0.069874,
          "end_time": "2022-05-12T13:03:28.551478",
          "exception": false,
          "start_time": "2022-05-12T13:03:28.481604",
          "status": "completed"
        },
        "tags": [],
        "id": "40543e67"
      },
      "source": [
        "**If you liked this Notebook, Please do upvote.**\n",
        "\n",
        "**If you have any suggestion or questions, feel free to comment!**\n",
        "\n",
        "**Best Wishes!**"
      ]
    }
  ],
  "metadata": {
    "kernelspec": {
      "display_name": "Python 3",
      "language": "python",
      "name": "python3"
    },
    "language_info": {
      "codemirror_mode": {
        "name": "ipython",
        "version": 3
      },
      "file_extension": ".py",
      "mimetype": "text/x-python",
      "name": "python",
      "nbconvert_exporter": "python",
      "pygments_lexer": "ipython3",
      "version": "3.7.12"
    },
    "papermill": {
      "default_parameters": {},
      "duration": 36.91437,
      "end_time": "2022-05-12T13:03:29.444149",
      "environment_variables": {},
      "exception": null,
      "input_path": "__notebook__.ipynb",
      "output_path": "__notebook__.ipynb",
      "parameters": {},
      "start_time": "2022-05-12T13:02:52.529779",
      "version": "2.3.4"
    },
    "colab": {
      "provenance": []
    }
  },
  "nbformat": 4,
  "nbformat_minor": 5
}